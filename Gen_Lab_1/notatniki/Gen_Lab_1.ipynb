{
 "cells": [
  {
   "cell_type": "markdown",
   "metadata": {
    "deletable": false,
    "editable": false,
    "nbgrader": {
     "checksum": "2878447ed9128508318a9c8416f4e7a3",
     "grade": false,
     "grade_id": "cell-982e98d0ad3ab544",
     "locked": true,
     "schema_version": 1,
     "solution": false
    }
   },
   "source": [
    "# Wstęp do Sztucznej Inteligencji - rok akademicki 2018/2019\n",
    "\n",
    "Przed rozpoczęciem pracy z notatnikiem zmień jego nazwę zgodnie z wzorem: `{NrAlbumu}_{Nazwisko}_{Imie}_{PoprzedniaNazwa}`.\n",
    "\n",
    "Przed wysłaniem notatnika upewnij się, że rozwiązałeś wszystkie zadania/ćwiczenia, w szczególności, że uzupełniłeś wszystkie pola `YOUR CODE HERE` oraz `YOUR ANSWER HERE`."
   ]
  },
  {
   "cell_type": "markdown",
   "metadata": {
    "deletable": false,
    "editable": false,
    "nbgrader": {
     "checksum": "fb094a18433f1897c5ea487cba0448ad",
     "grade": false,
     "grade_id": "cell-14058135edbba696",
     "locked": true,
     "schema_version": 1,
     "solution": false
    }
   },
   "source": [
    "## Temat: Algorytmy genetyczne - Lab 1\n",
    "Zapoznaj się z treścią niniejszego notatnika czytając i wykonując go komórka po komórce. Wykonaj napotkane zadania/ćwiczenia."
   ]
  },
  {
   "cell_type": "code",
   "execution_count": null,
   "metadata": {},
   "outputs": [],
   "source": [
    "import math\n",
    "import numpy as np\n",
    "\n",
    "# testowa funkcja celu\n",
    "# x - jednowymiarowa tablica ndarray\n",
    "def obj_func(x):\n",
    "    return (x**2).sum()"
   ]
  },
  {
   "cell_type": "markdown",
   "metadata": {
    "deletable": false,
    "editable": false,
    "nbgrader": {
     "checksum": "7bec9a302c4f85870d1ee11feb67bd9d",
     "grade": false,
     "grade_id": "cell-843613c9e6bf624a",
     "locked": true,
     "schema_version": 1,
     "solution": false
    }
   },
   "source": [
    "## Zadanie 1\n",
    "Zaimplementować metodę obliczającą ilość bitów potrzebnych do zakodowania liczb rzeczywistej z przedziału `[a, b]` z zadanym krokiem `dx`. Metoda ta powinna zwracać również nowy dokładniejszy krok `dx`.\n",
    "- `a` - początek przedziału, liczba rzeczywista.\n",
    "- `b` - koniec przedziału, liczba rzeczywista.\n",
    "- `dx` - krok, dokładność kodowania, liczba rzeczywista.\n",
    "- `B` - liczba bitów, liczba całkowita.\n",
    "- `dx_new` - nowy dokładniejszy krok, liczba rzeczywista."
   ]
  },
  {
   "cell_type": "code",
   "execution_count": 1,
   "metadata": {
    "deletable": false,
    "nbgrader": {
     "checksum": "217040d8b1e4601346b79380c7f8ee6b",
     "grade": false,
     "grade_id": "cell-08874f522bb5a733",
     "locked": false,
     "schema_version": 1,
     "solution": true
    }
   },
   "outputs": [
    {
     "name": "stdout",
     "output_type": "stream",
     "text": [
      "(3, 0.25)\n"
     ]
    }
   ],
   "source": [
    "import math\n",
    "def nbits(a, b, dx):\n",
    "    # YOUR CODE HERE\n",
    "    liczba_przedzialow = math.ceil((b - a) / dx)\n",
    "    dx_new = (b-a)/liczba_przedzialow\n",
    "    B = (liczba_przedzialow + 1).bit_length()\n",
    "\n",
    "    return B, dx_new\n",
    "\n",
    "\n",
    "print(nbits(1,2,0.3))"
   ]
  },
  {
   "cell_type": "code",
   "execution_count": null,
   "metadata": {
    "deletable": false,
    "editable": false,
    "nbgrader": {
     "checksum": "c068cf3188cd847fee0b792b32b0b40f",
     "grade": true,
     "grade_id": "cell-6aadc1eccf76d590",
     "locked": true,
     "points": 4,
     "schema_version": 1,
     "solution": false
    }
   },
   "outputs": [],
   "source": [
    "#komórka z autotestem"
   ]
  },
  {
   "cell_type": "markdown",
   "metadata": {
    "deletable": false,
    "editable": false,
    "nbgrader": {
     "checksum": "f24db0329ef4279c56b2f9aea93b4fc7",
     "grade": false,
     "grade_id": "cell-b20f6279026ccc6b",
     "locked": true,
     "schema_version": 1,
     "solution": false
    }
   },
   "source": [
    "## Zadanie 2\n",
    "Zaimplementować metodę generującą populację zakodowanych osobników (binarną). Metoda ta powinna zwracać obiekt typu `ndarray`. Użyj metody `np.random.randint`.\n",
    "- `P` - liczba osobników, liczba całkowita.\n",
    "- `N` - liczba zmiennych, liczba całkowita.\n",
    "- `B` - liczba bitów na każdą ze zmiennych, liczba całkowita.\n",
    "- `pop` - populacja zakodowanych osobników, tablica `ndarray`."
   ]
  },
  {
   "cell_type": "code",
   "execution_count": null,
   "metadata": {
    "deletable": false,
    "nbgrader": {
     "checksum": "68cfcbb0be5e7d3391bc4df9f12c7cbb",
     "grade": false,
     "grade_id": "cell-ad03615b526a25df",
     "locked": false,
     "schema_version": 1,
     "solution": true
    }
   },
   "outputs": [],
   "source": [
    "def gen_population(P, N, B):\n",
    "    # YOUR CODE HERE\n",
    "    raise NotImplementedError()\n",
    "    return pop"
   ]
  },
  {
   "cell_type": "code",
   "execution_count": null,
   "metadata": {
    "deletable": false,
    "editable": false,
    "nbgrader": {
     "checksum": "f1e67220b0cfa82f2aa0a7e3c5c069db",
     "grade": true,
     "grade_id": "cell-1d2ff685c8c8f364",
     "locked": true,
     "points": 4,
     "schema_version": 1,
     "solution": false
    }
   },
   "outputs": [],
   "source": [
    "#komórka z autotestem"
   ]
  },
  {
   "cell_type": "markdown",
   "metadata": {
    "deletable": false,
    "editable": false,
    "nbgrader": {
     "checksum": "9358c53612418cf06a2fb4983f0098d1",
     "grade": false,
     "grade_id": "cell-b22ea59406d86183",
     "locked": true,
     "schema_version": 1,
     "solution": false
    }
   },
   "source": [
    "## Zadanie 3\n",
    "Zaimplementuj metodę pozwalajacą na rozkodowanie osobników, tzn. przekonwertowanie osobnika z postaci binarnej na dziesiętną. Metoda powinna zwrócić jedno wymiarową tablicę `ndarray`.\n",
    "\n",
    "- `individual` - osobnik binarny kodujący `N` zmiennych rzeczywistych, tablica `ndarray`.\n",
    "- `N` - liczba zmiennych, liczba całkowita.\n",
    "- `B` - liczba bitów na każdą ze zmiennych, liczba całkowita.\n",
    "- `a` - początek przedziału, liczba rzeczywsta, dla każdej zmiennej taki sam.\n",
    "- `dx` - krok, dokładność kodowania, taki sam dla każdej zmiennej.\n",
    "- `decode_individual` - rozkodowany osobnik, tablica `ndarray` zawierająca `N` zmiennych rzeczywistych."
   ]
  },
  {
   "cell_type": "code",
   "execution_count": null,
   "metadata": {
    "deletable": false,
    "nbgrader": {
     "checksum": "81d46c267b5db72e851ae7ac9a94c848",
     "grade": false,
     "grade_id": "cell-e3ee8cfd04336f38",
     "locked": false,
     "schema_version": 1,
     "solution": true
    }
   },
   "outputs": [],
   "source": [
    "def decode_individual(individual, N, B, a, dx):\n",
    "    # YOUR CODE HERE\n",
    "    raise NotImplementedError()\n",
    "    return decode_individual"
   ]
  },
  {
   "cell_type": "code",
   "execution_count": null,
   "metadata": {
    "deletable": false,
    "editable": false,
    "nbgrader": {
     "checksum": "8e44685be941b23c1763da00893cb281",
     "grade": true,
     "grade_id": "cell-ad88e00cf28f5a7d",
     "locked": true,
     "points": 4,
     "schema_version": 1,
     "solution": false
    }
   },
   "outputs": [],
   "source": [
    "#komórka z autotestem"
   ]
  },
  {
   "cell_type": "markdown",
   "metadata": {
    "deletable": false,
    "editable": false,
    "nbgrader": {
     "checksum": "d9199b1599937604e1b96a2f15b2c231",
     "grade": false,
     "grade_id": "cell-a1d82940ac9db9ce",
     "locked": true,
     "schema_version": 1,
     "solution": false
    }
   },
   "source": [
    "## Zadanie 4\n",
    "Zaimplementuj metodę oceny osobników w populacji, tzn. metodę wykonującą funkcję celu na każdym z osobników. Metoda powinna zwrócić jedno wymiarową tablicę `ndarray`.\n",
    "- `func` - funkcja celu (przystosowania).\n",
    "- `pop` - populacja zakodowanych osobników, tablica `ndarray`.\n",
    "- `N` - liczba zmiennych, liczba całkowita.\n",
    "- `B` - liczba bitów na każdą ze zmiennych, liczba całkowita.\n",
    "- `a` - początek przedziału, liczba rzeczywsta, dla każdej zmiennej taki sam.\n",
    "- `dx` - krok, dokładność kodowania, taki sam dla każdej zmiennej.\n",
    "- `evaluated_pop` - tablica `ndarray` zawierająca wartości funkcji celu dla poszczególnych osobników."
   ]
  },
  {
   "cell_type": "code",
   "execution_count": null,
   "metadata": {
    "deletable": false,
    "nbgrader": {
     "checksum": "bdd99bb684340549e1992be915e45caa",
     "grade": false,
     "grade_id": "cell-4d7673b69f437cc0",
     "locked": false,
     "schema_version": 1,
     "solution": true
    }
   },
   "outputs": [],
   "source": [
    "def evaluate_population(func, pop, N, B, a, dx):\n",
    "    # YOUR CODE HERE\n",
    "    raise NotImplementedError()\n",
    "    return evaluated_pop"
   ]
  },
  {
   "cell_type": "code",
   "execution_count": null,
   "metadata": {
    "deletable": false,
    "editable": false,
    "nbgrader": {
     "checksum": "c43caba12644f59f8de6c7b4d6e351a4",
     "grade": true,
     "grade_id": "cell-1f502c9e2d755383",
     "locked": true,
     "points": 4,
     "schema_version": 1,
     "solution": false
    }
   },
   "outputs": [],
   "source": [
    "#komórka z autotestem"
   ]
  },
  {
   "cell_type": "markdown",
   "metadata": {
    "deletable": false,
    "editable": false,
    "nbgrader": {
     "checksum": "9c1d9a05dcb3d7fcef0ffa1ea3610b1a",
     "grade": false,
     "grade_id": "cell-3944984cc0ccddda",
     "locked": true,
     "schema_version": 1,
     "solution": false
    }
   },
   "source": [
    "## Zadanie 5\n",
    "Zaimplementować metodę zwracającą najlepszego osobnika z populacji (maksimum). Metoda powinna zwracać osobnika w postaci jednowymiarowej tablicy `ndarray` oraz odpowiadającą mu wartość funkcji celu.\n",
    "\n",
    "- `pop` - populacja zakodowanych osobników, tablica `ndarray`.\n",
    "- `evaluated_pop` - tablica `ndarray` ocen osobników.\n",
    "- `best_individual` - najlepszy osobnik (zakodowany), tablica `ndarray`.\n",
    "- `best_value` - wartość najlepszego osobnika, liczba rzeczywista."
   ]
  },
  {
   "cell_type": "code",
   "execution_count": null,
   "metadata": {
    "deletable": false,
    "nbgrader": {
     "checksum": "aebd503e237f1f4b4e6b7a7b12697d5d",
     "grade": false,
     "grade_id": "cell-2f506fc72271d1d7",
     "locked": false,
     "schema_version": 1,
     "solution": true
    }
   },
   "outputs": [],
   "source": [
    "def get_best(pop, evaluated_pop):\n",
    "    # YOUR CODE HERE\n",
    "    raise NotImplementedError()\n",
    "    return best_individual, best_value"
   ]
  },
  {
   "cell_type": "code",
   "execution_count": null,
   "metadata": {
    "deletable": false,
    "editable": false,
    "nbgrader": {
     "checksum": "fada3db8b09c3e3754e075e90d3e9b53",
     "grade": true,
     "grade_id": "cell-e3d0c1998de07982",
     "locked": true,
     "points": 4,
     "schema_version": 1,
     "solution": false
    }
   },
   "outputs": [],
   "source": [
    "#komórka z autotestem"
   ]
  },
  {
   "cell_type": "markdown",
   "metadata": {
    "deletable": false,
    "editable": false,
    "nbgrader": {
     "checksum": "22a892ad8206e6bb4fc40a8269fd2edc",
     "grade": false,
     "grade_id": "cell-299e037cb4bc73bb",
     "locked": true,
     "schema_version": 1,
     "solution": false
    }
   },
   "source": [
    "<div style=\"text-align: right\">&copy; Zakład Inteligencji Obliczeniowej, Instytut Informatyki, Politechnika Krakowska </div>"
   ]
  }
 ],
 "metadata": {
  "kernelspec": {
   "display_name": "Python 3",
   "language": "python",
   "name": "python3"
  },
  "language_info": {
   "codemirror_mode": {
    "name": "ipython",
    "version": 3
   },
   "file_extension": ".py",
   "mimetype": "text/x-python",
   "name": "python",
   "nbconvert_exporter": "python",
   "pygments_lexer": "ipython3",
   "version": "3.7.1"
  }
 },
 "nbformat": 4,
 "nbformat_minor": 2
}
