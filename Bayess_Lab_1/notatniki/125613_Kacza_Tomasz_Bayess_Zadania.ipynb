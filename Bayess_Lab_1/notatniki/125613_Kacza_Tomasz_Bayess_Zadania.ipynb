{
 "cells": [
  {
   "cell_type": "markdown",
   "metadata": {
    "deletable": false,
    "editable": false,
    "nbgrader": {
     "checksum": "2878447ed9128508318a9c8416f4e7a3",
     "grade": false,
     "grade_id": "cell-982e98d0ad3ab544",
     "locked": true,
     "schema_version": 1,
     "solution": false
    }
   },
   "source": [
    "# Wstęp do Sztucznej Inteligencji - rok akademicki 2018/2019\n",
    "\n",
    "Przed rozpoczęciem pracy z notatnikiem zmień jego nazwę zgodnie z wzorem: `{NrAlbumu}_{Nazwisko}_{Imie}_{PoprzedniaNazwa}`.\n",
    "\n",
    "Przed wysłaniem notatnika upewnij się, że rozwiązałeś wszystkie zadania/ćwiczenia, w szczególności, że uzupełniłeś wszystkie pola `YOUR CODE HERE` oraz `YOUR ANSWER HERE`."
   ]
  },
  {
   "cell_type": "markdown",
   "metadata": {
    "deletable": false,
    "editable": false,
    "nbgrader": {
     "checksum": "219097c2706cdafdebd3a260dbc0e6d0",
     "grade": false,
     "grade_id": "cell-f460dfb3d59942f1",
     "locked": true,
     "schema_version": 1,
     "solution": false
    }
   },
   "source": [
    "## Zadanie 1  (obowiązkowe, 5pkt.)\n",
    "Zapożyczone z ćwiczeń do wykładu [Arabas, Cichosz](http://wazniak.mimuw.edu.pl/index.php?title=Sztuczna_inteligencja/SI_%C4%86wiczenia_4)\n",
    "\n",
    "### Zamodeluj i odpowiedz na pytania.\n",
    "\n",
    "W śledztwie dotyczącym zabójstwa inspektor Bayes rozważa dwie hipotezy:\n",
    "\n",
    "- $H_1$ główny podejrzany zabił,\n",
    "- $H_2$ główny podejrzany nie zabił, \n",
    "\n",
    "oraz następujące możliwe fakty:\n",
    "\n",
    "- $E_1$ na miejscu zbrodni znaleziono odciski palców głównego podejrzanego,\n",
    "- $E_2$ główny podejrzany nie ma alibi na czas popełnienia zabójstwa,\n",
    "- $E_3$ główny podejrzany miał motyw zabicia ofiary,\n",
    "- $E_4$ główny podejrzany był widziany w sądziedztwie miejsca, w którym mieszka nielegalny handlarz bronią,\n",
    "- $E_5$ świadek zbrodni podał rysopis zabójcy nie pasujący do głównego podejrzanego. \n",
    "\n",
    "Zależności między takimi faktami a hipotezami opisują następujące prawdopodobieństwa:\n",
    "\n",
    "$P(E_1|H_1)=0.7,\\qquad P(E_1|H_2)=0.3,$\n",
    "\n",
    "$P(E_2|H_1)=0.8,\\qquad P(E_2|H_2)=0.4,$\n",
    "\n",
    "$P(E_3|H_1)=0.9,\\qquad P(E_3|H_2)=0.5,$\n",
    "\n",
    "$P(E_4|H_1)=0.4,\\qquad P(E_4|H_2)=0.2,$\n",
    "\n",
    "$P(E_5|H_1)=0.2,\\qquad P(E_5|H_2)=0.4.$ \n",
    "\n",
    "__W którym przypadku prawdopodobieństwo popełnienia zabójstwa byłoby największe?__\n",
    "\n",
    "1. Gdyby znaleziono na miejscu zbrodni jego odciski palców.\n",
    "2. Gdyby stwierdzono, że nie miał alibi i miał motyw.\n",
    "3. Gdyby znaleziono na miejscu zbrodni jego odciski palców oraz stwierdzono, że był widziany w sąsiedztwie miejsca, w którym mieszka nielegalny handlarz bronią, ale świadek zbrodni podał rysopis zabójcy nie pasujący do głównego podejrzanego."
   ]
  },
  {
   "cell_type": "markdown",
   "metadata": {
    "deletable": false,
    "editable": false,
    "nbgrader": {
     "checksum": "f5a0640fe70bf88307984d683bab01cd",
     "grade": false,
     "grade_id": "cell-fe8d146854dd51b1",
     "locked": true,
     "schema_version": 1,
     "solution": false
    }
   },
   "source": [
    "#### TWÓJ PROGRAM:"
   ]
  },
  {
   "cell_type": "code",
   "execution_count": 2,
   "metadata": {
    "deletable": false,
    "nbgrader": {
     "checksum": "5c0b959969a16e4647ead2c8866e04b0",
     "grade": true,
     "grade_id": "cell-7952dd54d02bf86b",
     "locked": false,
     "points": 4,
     "schema_version": 1,
     "solution": true
    }
   },
   "outputs": [
    {
     "ename": "ModuleNotFoundError",
     "evalue": "No module named 'pymc3'",
     "output_type": "error",
     "traceback": [
      "\u001b[0;31m---------------------------------------------------------------------------\u001b[0m",
      "\u001b[0;31mModuleNotFoundError\u001b[0m                       Traceback (most recent call last)",
      "\u001b[0;32m<ipython-input-2-2e597f7e7408>\u001b[0m in \u001b[0;36m<module>\u001b[0;34m()\u001b[0m\n\u001b[0;32m----> 1\u001b[0;31m \u001b[0;32mimport\u001b[0m \u001b[0mpymc3\u001b[0m \u001b[0;32mas\u001b[0m \u001b[0mpm\u001b[0m\u001b[0;34m\u001b[0m\u001b[0;34m\u001b[0m\u001b[0m\n\u001b[0m\u001b[1;32m      2\u001b[0m \u001b[0;32mimport\u001b[0m \u001b[0mnumpy\u001b[0m \u001b[0;32mas\u001b[0m \u001b[0mnp\u001b[0m\u001b[0;34m\u001b[0m\u001b[0;34m\u001b[0m\u001b[0m\n\u001b[1;32m      3\u001b[0m \u001b[0;34m\u001b[0m\u001b[0m\n\u001b[1;32m      4\u001b[0m \u001b[0;31m# szukamy\u001b[0m\u001b[0;34m\u001b[0m\u001b[0;34m\u001b[0m\u001b[0;34m\u001b[0m\u001b[0m\n\u001b[1;32m      5\u001b[0m \u001b[0;31m# P(H1 | E1)\u001b[0m\u001b[0;34m\u001b[0m\u001b[0;34m\u001b[0m\u001b[0;34m\u001b[0m\u001b[0m\n",
      "\u001b[0;31mModuleNotFoundError\u001b[0m: No module named 'pymc3'"
     ]
    }
   ],
   "source": [
    "import pymc3 as pm\n",
    "import numpy as np\n",
    "\n",
    "# szukamy\n",
    "# P(H1 | E1)\n",
    "# P(H1 | (E2 & E3))\n",
    "# P(H1 | (E1 & E4 & E5))\n",
    "\n",
    "with pm.Model() as zabojstwo_model:\n",
    "    # zminna zabojstwo\n",
    "    h1 = pm.Bernoulli('h1', 0.5)\n",
    "\n",
    "    # prawd. znalezienia odciskow pod warunkiem zabojstwa\n",
    "    p_E1 = pm.Deterministic('p_E1', pm.math.switch(h1, 0.7, 0.3))\n",
    "    E1 = pm.Bernoulli('E1', p_E1)\n",
    "\n",
    "    # główny podejrzany nie ma alibi na czas popełnienia zabójstwa\n",
    "    p_E2 = pm.Deterministic('p_E2', pm.math.switch(h1, 0.8, 0.4))\n",
    "    E2 = pm.Bernoulli('E2', p_E2)\n",
    "\n",
    "    #  główny podejrzany miał motyw zabicia ofiary,\n",
    "    p_E3 = pm.Deterministic('p_E3', pm.math.switch(h1, 0.9, 0.5))\n",
    "    E3 = pm.Bernoulli('E3', p_E3)\n",
    "\n",
    "    # główny podejrzany był widziany w sądziedztwie miejsca,\n",
    "    # w którym mieszka nielegalny handlarz bronią,\n",
    "    p_E4 = pm.Deterministic('p_E4', pm.math.switch(h1, 0.4, 0.2))\n",
    "    E4 = pm.Bernoulli('E4', p_E4)\n",
    "\n",
    "    # świadek zbrodni podał rysopis zabójcy nie pasujący do głównego podejrzanego.\n",
    "    p_E5 = pm.Deterministic('p_E5', pm.math.switch(h1, 0.2, 0.4))\n",
    "    E5 = pm.Bernoulli('E5', p_E5)\n",
    "\n",
    "with zabojstwo_model:\n",
    "    trace = pm.sample(100000, chains=1)\n",
    "\n",
    "# P(H1 | E1) Gdyby znaleziono na miejscu zbrodni jego odciski palców\n",
    "p_zabojstwo_pw_odciski = (trace['h1'] * trace['E1']).sum() / trace['E1'].sum()\n",
    "print('prawdopodobieństwo gdyby znaleziono na miejscu zbrodni jego odciski palców:', p_zabojstwo_pw_odciski)\n",
    "\n",
    "# P(H1 | (E2 & E3)) Gdyby stwierdzono, że nie miał alibi i miał motyw.\n",
    "p_zabojstwo_pw_alibi_motyw = (trace['h1'] * trace['E2'] * trace['E3']).sum() / (trace['E2'] * trace['E3']).sum()\n",
    "print('prawdopodobieństwo gdyby stwierdzono, że nie miał alibi i miał motyw:', p_zabojstwo_pw_alibi_motyw)\n",
    "\n",
    "# P(H1 | (E1 & E4 & E5)) #Gdyby znaleziono na miejscu zbrodni jego odciski palców oraz stwierdzono,\n",
    "# że był widziany w sąsiedztwie miejsca, w którym mieszka nielegalny handlarz bronią,\n",
    "# ale świadek zbrodni podał rysopis zabójcy nie pasujący do głównego podejrzanego.\n",
    "p_zabojstwo_pw_odciski_handlarz_rysopis = (trace['h1'] * trace['E1'] * trace['E4']*trace['E5']).sum() / (trace['E2'] * trace['E4'] * trace['E5']).sum()\n",
    "print('P(H1 | (E1 & E4 & E5)):', p_zabojstwo_pw_odciski_handlarz_rysopis)\n",
    "raise NotImplementedError()"
   ]
  },
  {
   "cell_type": "markdown",
   "metadata": {
    "deletable": false,
    "editable": false,
    "nbgrader": {
     "checksum": "e26e9d7241be949fa393912ab35bb50c",
     "grade": false,
     "grade_id": "cell-6a78113f0b1b8379",
     "locked": true,
     "schema_version": 1,
     "solution": false
    }
   },
   "source": [
    "#### ODPOWIEDŹ:"
   ]
  },
  {
   "cell_type": "markdown",
   "metadata": {
    "deletable": false,
    "nbgrader": {
     "checksum": "4a8f159e3575c12dd43121c63b7fae57",
     "grade": true,
     "grade_id": "cell-bdc401c2683f0de0",
     "locked": false,
     "points": 1,
     "schema_version": 1,
     "solution": true
    }
   },
   "source": [
    "YOUR ANSWER HERE"
   ]
  },
  {
   "cell_type": "markdown",
   "metadata": {
    "deletable": false,
    "editable": false,
    "nbgrader": {
     "checksum": "5a437e9552b8bdc5e90456c2dd6984a8",
     "grade": false,
     "grade_id": "cell-3c4e7819e72a4e70",
     "locked": true,
     "schema_version": 1,
     "solution": false
    }
   },
   "source": [
    "## Zadanie 2  (obowiązkowe, 5pkt.)\n",
    "\n",
    "### Zamodeluj i odpowiedz na pytania.\n",
    "System alarmowy w mieszkaniu, reaguje na włamania oraz, niestety, również na drobne trzęsienia (ziemi). Sąsiedzi John i Mary są umówieni, żeby zadzwonić do właściciela gdy usłyszą alarm. John jest nadgorliwy i bierze różne zdarzenia (np. dzwonek telefonu) za sygnał alarmowy (i wtedy zawsze dzwoni). Mary rozpoznaje alarm poprawnie, lecz często słucha głośnej muzyki i może go w ogóle nie usłyszeć. \n",
    "\n",
    "Sieć przekonań dla systemu alarmowego wygląda następująco:\n",
    "![bsiec.PNG](http://torus.uck.pk.edu.pl/~amarsz/images/bsiec.PNG)\n",
    "\n",
    "__Jakie jest prawdopodobieństwo, że:__\n",
    "1. włączy się alarm?\n",
    "2. doszło do włamanie jeśli wiadom, że włączył się alarm?\n",
    "3. zdarzyło się trzęsienie ziemi jeśli wiadomo, żę włączył się alarm?\n",
    "1. w razie włamania ktoś zadzwoni?\n",
    "2. zawiadomienie o włamaniu jest fałszywe?\n",
    "3. rozległ się alarm, przy czym nie wystąpiło ani trzęsienie ziemi ani włamanie, ale oboje John i Mary zadzwonili? (prawd. bezwarunkowe)"
   ]
  },
  {
   "cell_type": "markdown",
   "metadata": {
    "deletable": false,
    "editable": false,
    "nbgrader": {
     "checksum": "c55fab43ecb6e20531e0432e606c4c30",
     "grade": false,
     "grade_id": "cell-4abaeb0348b3c08c",
     "locked": true,
     "schema_version": 1,
     "solution": false
    }
   },
   "source": [
    "#### TWÓJ PROGRAM:"
   ]
  },
  {
   "cell_type": "code",
   "execution_count": null,
   "metadata": {
    "deletable": false,
    "nbgrader": {
     "checksum": "e29adf8fe348a1af06a7e6d59f1917dc",
     "grade": true,
     "grade_id": "cell-68e4d50f1603ba39",
     "locked": false,
     "points": 4,
     "schema_version": 1,
     "solution": true
    }
   },
   "outputs": [],
   "source": [
    "import pymc3 as pm\n",
    "import numpy as np\n",
    "\n",
    "# YOUR CODE HERE\n",
    "raise NotImplementedError()"
   ]
  },
  {
   "cell_type": "markdown",
   "metadata": {
    "deletable": false,
    "editable": false,
    "nbgrader": {
     "checksum": "4c9a6598e75975dae670c8c82468eb40",
     "grade": false,
     "grade_id": "cell-506b8de531ebc17e",
     "locked": true,
     "schema_version": 1,
     "solution": false
    }
   },
   "source": [
    "#### ODPOWIEDŹ:"
   ]
  },
  {
   "cell_type": "markdown",
   "metadata": {
    "deletable": false,
    "nbgrader": {
     "checksum": "8a4b510f6edde05984026568770e55aa",
     "grade": true,
     "grade_id": "cell-f85368d56797124d",
     "locked": false,
     "points": 1,
     "schema_version": 1,
     "solution": true
    }
   },
   "source": [
    "YOUR ANSWER HERE"
   ]
  },
  {
   "cell_type": "markdown",
   "metadata": {
    "deletable": false,
    "editable": false,
    "nbgrader": {
     "checksum": "22a892ad8206e6bb4fc40a8269fd2edc",
     "grade": false,
     "grade_id": "cell-299e037cb4bc73bb",
     "locked": true,
     "schema_version": 1,
     "solution": false
    }
   },
   "source": [
    "<div style=\"text-align: right\">&copy; Zakład Inteligencji Obliczeniowej, Instytut Informatyki, Politechnika Krakowska </div>"
   ]
  }
 ],
 "metadata": {
  "kernelspec": {
   "display_name": "Python 3",
   "language": "python",
   "name": "python3"
  },
  "language_info": {
   "codemirror_mode": {
    "name": "ipython",
    "version": 3
   },
   "file_extension": ".py",
   "mimetype": "text/x-python",
   "name": "python",
   "nbconvert_exporter": "python",
   "pygments_lexer": "ipython3",
   "version": "3.6.7"
  }
 },
 "nbformat": 4,
 "nbformat_minor": 2
}
