{
 "cells": [
  {
   "cell_type": "markdown",
   "metadata": {
    "deletable": false,
    "editable": false,
    "nbgrader": {
     "checksum": "2878447ed9128508318a9c8416f4e7a3",
     "grade": false,
     "grade_id": "cell-982e98d0ad3ab544",
     "locked": true,
     "schema_version": 1,
     "solution": false
    }
   },
   "source": [
    "# Wstęp do Sztucznej Inteligencji - rok akademicki 2018/2019\n",
    "\n",
    "Przed rozpoczęciem pracy z notatnikiem zmień jego nazwę zgodnie z wzorem: `{NrAlbumu}_{Nazwisko}_{Imie}_{PoprzedniaNazwa}`.\n",
    "\n",
    "Przed wysłaniem notatnika upewnij się, że rozwiązałeś wszystkie zadania/ćwiczenia, w szczególności, że uzupełniłeś wszystkie pola `YOUR CODE HERE` oraz `YOUR ANSWER HERE`."
   ]
  },
  {
   "cell_type": "markdown",
   "metadata": {
    "deletable": false,
    "editable": false,
    "nbgrader": {
     "checksum": "219097c2706cdafdebd3a260dbc0e6d0",
     "grade": false,
     "grade_id": "cell-f460dfb3d59942f1",
     "locked": true,
     "schema_version": 1,
     "solution": false
    }
   },
   "source": [
    "## Zadanie 1  (obowiązkowe, 5pkt.)\n",
    "Zapożyczone z ćwiczeń do wykładu [Arabas, Cichosz](http://wazniak.mimuw.edu.pl/index.php?title=Sztuczna_inteligencja/SI_%C4%86wiczenia_4)\n",
    "\n",
    "### Zamodeluj i odpowiedz na pytania.\n",
    "\n",
    "W śledztwie dotyczącym zabójstwa inspektor Bayes rozważa dwie hipotezy:\n",
    "\n",
    "- $H_1$ główny podejrzany zabił,\n",
    "- $H_2$ główny podejrzany nie zabił, \n",
    "\n",
    "oraz następujące możliwe fakty:\n",
    "\n",
    "- $E_1$ na miejscu zbrodni znaleziono odciski palców głównego podejrzanego,\n",
    "- $E_2$ główny podejrzany nie ma alibi na czas popełnienia zabójstwa,\n",
    "- $E_3$ główny podejrzany miał motyw zabicia ofiary,\n",
    "- $E_4$ główny podejrzany był widziany w sądziedztwie miejsca, w którym mieszka nielegalny handlarz bronią,\n",
    "- $E_5$ świadek zbrodni podał rysopis zabójcy nie pasujący do głównego podejrzanego. \n",
    "\n",
    "Zależności między takimi faktami a hipotezami opisują następujące prawdopodobieństwa:\n",
    "\n",
    "$P(E_1|H_1)=0.7,\\qquad P(E_1|H_2)=0.3,$\n",
    "\n",
    "$P(E_2|H_1)=0.8,\\qquad P(E_2|H_2)=0.4,$\n",
    "\n",
    "$P(E_3|H_1)=0.9,\\qquad P(E_3|H_2)=0.5,$\n",
    "\n",
    "$P(E_4|H_1)=0.4,\\qquad P(E_4|H_2)=0.2,$\n",
    "\n",
    "$P(E_5|H_1)=0.2,\\qquad P(E_5|H_2)=0.4.$ \n",
    "\n",
    "__W którym przypadku prawdopodobieństwo popełnienia zabójstwa byłoby największe?__\n",
    "\n",
    "1. Gdyby znaleziono na miejscu zbrodni jego odciski palców.\n",
    "2. Gdyby stwierdzono, że nie miał alibi i miał motyw.\n",
    "3. Gdyby znaleziono na miejscu zbrodni jego odciski palców oraz stwierdzono, że był widziany w sąsiedztwie miejsca, w którym mieszka nielegalny handlarz bronią, ale świadek zbrodni podał rysopis zabójcy nie pasujący do głównego podejrzanego."
   ]
  },
  {
   "cell_type": "markdown",
   "metadata": {
    "deletable": false,
    "editable": false,
    "nbgrader": {
     "checksum": "f5a0640fe70bf88307984d683bab01cd",
     "grade": false,
     "grade_id": "cell-fe8d146854dd51b1",
     "locked": true,
     "schema_version": 1,
     "solution": false
    }
   },
   "source": [
    "#### TWÓJ PROGRAM:"
   ]
  },
  {
   "cell_type": "code",
   "execution_count": 14,
   "metadata": {
    "deletable": false,
    "nbgrader": {
     "checksum": "5c0b959969a16e4647ead2c8866e04b0",
     "grade": true,
     "grade_id": "cell-7952dd54d02bf86b",
     "locked": false,
     "points": 4,
     "schema_version": 1,
     "solution": true
    }
   },
   "outputs": [
    {
     "name": "stderr",
     "output_type": "stream",
     "text": [
      "Sequential sampling (1 chains in 1 job)\n",
      "BinaryGibbsMetropolis: [zabil, odciski, niealibi, motyw, widziany, nierysopis]\n",
      "100%|██████████████████████████████████████████████████████████████████████████| 50500/50500 [00:28<00:00, 1781.66it/s]\n",
      "Only one chain was sampled, this makes it impossible to run some convergence checks\n"
     ]
    },
    {
     "name": "stdout",
     "output_type": "stream",
     "text": [
      "0.6949930181528027\n",
      "0.7797247105090671\n",
      "0.6992628992628993\n",
      "\n",
      "0.6949930181528027\n",
      "0.7797247105090671\n",
      "0.6992628992628993\n"
     ]
    }
   ],
   "source": [
    "import pymc3 as pm\n",
    "import numpy as np\n",
    "\n",
    "with pm.Model() as zab_model:\n",
    "    zabil = pm.Bernoulli('zabil', 0.5)\n",
    "    \n",
    "    p_odciski = pm.Deterministic('p_odciski', pm.math.switch(zabil, 0.7, 0.3))\n",
    "    odciski = pm.Bernoulli('odciski', p_odciski)\n",
    "    \n",
    "    p_niealibi = pm.Deterministic('p_niealibi', pm.math.switch(zabil, 0.8, 0.4))\n",
    "    niealibi = pm.Bernoulli('niealibi', p_niealibi)\n",
    "    \n",
    "    p_motyw = pm.Deterministic('p_motyw', pm.math.switch(zabil, 0.9, 0.5))\n",
    "    motyw = pm.Bernoulli('motyw', p_motyw)\n",
    "    \n",
    "    p_widziany = pm.Deterministic('p_widziany', pm.math.switch(zabil, 0.4, 0.2))\n",
    "    widziany = pm.Bernoulli('widziany', p_widziany)\n",
    "    \n",
    "    p_nierysopis = pm.Deterministic('p_nierysopis', pm.math.switch(zabil, 0.2, 0.4))\n",
    "    nierysopis = pm.Bernoulli('nierysopis', p_nierysopis)\n",
    "with zab_model:\n",
    "    trace = pm.sample(50000, chains=1)\n",
    "# print(trace)\n",
    "# print(trace.varnames)\n",
    "# trace.get_values('zabil')\n",
    "# axs = pm.traceplot(trace, varnames=['zabil', 'odciski', 'niealibi', 'motyw', 'widziany', 'nierysopis'])\n",
    "p_h1_e1 = (trace['zabil']*trace['odciski']).sum()/trace['odciski'].sum()\n",
    "\n",
    "p_h1_e1ANDe2 = (trace['zabil']*trace['motyw']*trace['niealibi']).sum()/((trace['zabil']*trace['motyw']*trace['niealibi']).sum() + (np.logical_not(trace['zabil'])*trace['motyw']*trace['niealibi']).sum())\n",
    "\n",
    "p_h1_e1ANDe4ANDe5 = (trace['zabil']*trace['odciski']*trace['widziany']*trace['nierysopis']).sum()/((trace['zabil']*trace['odciski']*trace['widziany']*trace['nierysopis']).sum() + (np.logical_not(trace['zabil'])*trace['odciski']*trace['widziany']*trace['nierysopis']).sum())\n",
    "\n",
    "print(p_h1_e1, p_h1_e1ANDe2, p_h1_e1ANDe4ANDe5, sep='\\n')\n",
    "\n",
    "p_zabil_odciski = (trace['zabil']*trace['odciski']).sum()/trace['odciski'].sum()\n",
    "p_zabil_alibi_motyw = (trace['zabil']*trace['niealibi']*trace['motyw']).sum()/(trace['niealibi']*trace['motyw']).sum()\n",
    "p_zabil_odciski_bron_rysopis = (trace['zabil']*trace['odciski']*trace['widziany']*trace['nierysopis']).sum()/(trace['odciski']*trace['widziany']*trace['nierysopis']).sum()\n",
    "print('',p_zabil_odciski, p_zabil_alibi_motyw, p_zabil_odciski_bron_rysopis, sep='\\n')"
   ]
  },
  {
   "cell_type": "markdown",
   "metadata": {
    "deletable": false,
    "editable": false,
    "nbgrader": {
     "checksum": "e26e9d7241be949fa393912ab35bb50c",
     "grade": false,
     "grade_id": "cell-6a78113f0b1b8379",
     "locked": true,
     "schema_version": 1,
     "solution": false
    }
   },
   "source": [
    "#### ODPOWIEDŹ:"
   ]
  },
  {
   "cell_type": "markdown",
   "metadata": {
    "deletable": false,
    "nbgrader": {
     "checksum": "4a8f159e3575c12dd43121c63b7fae57",
     "grade": true,
     "grade_id": "cell-bdc401c2683f0de0",
     "locked": false,
     "points": 1,
     "schema_version": 1,
     "solution": true
    }
   },
   "source": [
    "zad1 0.7066194605776116\n",
    "zad2 0.826449149600833\n",
    "zad3 0.7012012012012012"
   ]
  },
  {
   "cell_type": "markdown",
   "metadata": {
    "deletable": false,
    "editable": false,
    "nbgrader": {
     "checksum": "5a437e9552b8bdc5e90456c2dd6984a8",
     "grade": false,
     "grade_id": "cell-3c4e7819e72a4e70",
     "locked": true,
     "schema_version": 1,
     "solution": false
    }
   },
   "source": [
    "## Zadanie 2  (obowiązkowe, 5pkt.)\n",
    "\n",
    "### Zamodeluj i odpowiedz na pytania.\n",
    "System alarmowy w mieszkaniu, reaguje na włamania oraz, niestety, również na drobne trzęsienia (ziemi). Sąsiedzi John i Mary są umówieni, żeby zadzwonić do właściciela gdy usłyszą alarm. John jest nadgorliwy i bierze różne zdarzenia (np. dzwonek telefonu) za sygnał alarmowy (i wtedy zawsze dzwoni). Mary rozpoznaje alarm poprawnie, lecz często słucha głośnej muzyki i może go w ogóle nie usłyszeć. \n",
    "\n",
    "Sieć przekonań dla systemu alarmowego wygląda następująco:\n",
    "![bsiec.PNG](http://torus.uck.pk.edu.pl/~amarsz/images/bsiec.PNG)\n",
    "\n",
    "__Jakie jest prawdopodobieństwo, że:__\n",
    "1. włączy się alarm?\n",
    "2. doszło do włamanie jeśli wiadom, że włączył się alarm?\n",
    "3. zdarzyło się trzęsienie ziemi jeśli wiadomo, żę włączył się alarm?\n",
    "1. w razie włamania ktoś zadzwoni?\n",
    "2. zawiadomienie o włamaniu jest fałszywe?\n",
    "3. rozległ się alarm, przy czym nie wystąpiło ani trzęsienie ziemi ani włamanie, ale oboje John i Mary zadzwonili? (prawd. bezwarunkowe)"
   ]
  },
  {
   "cell_type": "markdown",
   "metadata": {
    "deletable": false,
    "editable": false,
    "nbgrader": {
     "checksum": "c55fab43ecb6e20531e0432e606c4c30",
     "grade": false,
     "grade_id": "cell-4abaeb0348b3c08c",
     "locked": true,
     "schema_version": 1,
     "solution": false
    }
   },
   "source": [
    "#### TWÓJ PROGRAM:"
   ]
  },
  {
   "cell_type": "code",
   "execution_count": 12,
   "metadata": {
    "deletable": false,
    "nbgrader": {
     "checksum": "e29adf8fe348a1af06a7e6d59f1917dc",
     "grade": true,
     "grade_id": "cell-68e4d50f1603ba39",
     "locked": false,
     "points": 4,
     "schema_version": 1,
     "solution": true
    },
    "scrolled": true
   },
   "outputs": [
    {
     "name": "stderr",
     "output_type": "stream",
     "text": [
      "Sequential sampling (1 chains in 1 job)\n",
      "BinaryGibbsMetropolis: [buglary, earthquake, alarm, john, mary]\n",
      "100%|████████████████████████████████████████████████████████████████████████| 200500/200500 [01:26<00:00, 2309.70it/s]\n",
      "Only one chain was sampled, this makes it impossible to run some convergence checks\n"
     ]
    },
    {
     "name": "stdout",
     "output_type": "stream",
     "text": [
      "0.002485\n",
      "\n",
      "\n",
      "0.3682092555331992\n",
      "0.2012072434607646\n",
      "0.9128205128205129\n",
      "0.0015715322439378394\n",
      "6.412972048381273e-07\n"
     ]
    }
   ],
   "source": [
    "import pymc3 as pm\n",
    "import numpy as np\n",
    "\n",
    "with pm.Model() as model:\n",
    "    buglary = pm.Bernoulli('buglary', 0.001)\n",
    "    earthquake = pm.Bernoulli('earthquake', 0.002)\n",
    "    p_alarm = pm.Deterministic('p_alarm', pm.math.switch(buglary, pm.math.switch(earthquake, 0.95, 0.94), pm.math.switch(earthquake, 0.29, 0.001)))\n",
    "    alarm = pm.Bernoulli('alarm', p_alarm)\n",
    "    p_john = pm.Deterministic('p_john', pm.math.switch(alarm, 0.9, 0.05))\n",
    "    john = pm.Bernoulli('john', p_john)\n",
    "    p_mary = pm.Deterministic('p_mary', pm.math.switch(alarm, 0.7, 0.01))\n",
    "    mary = pm.Bernoulli('mary', p_mary)\n",
    "    \n",
    "    trace = pm.sample(200000, chains=1)\n",
    "\n",
    "p_a = (trace['alarm']).sum()/len(trace['alarm'])\n",
    "\n",
    "p_b_a = (trace['buglary']*trace['alarm']).sum()/(trace['alarm']).sum()\n",
    "\n",
    "p_e_a = (trace['earthquake']*trace['alarm']).sum()/(trace['alarm']).sum()\n",
    "\n",
    "p_wlamanie = (trace['buglary'] * trace['john']).sum()/(trace['buglary']).sum() + (trace['buglary'] * trace['mary']).sum()/(trace['buglary']).sum() - (trace['buglary'] * trace['mary'] * trace['john']).sum()/(trace['buglary']).sum() \n",
    "\n",
    "zad5 = (trace['alarm']*np.logical_not(trace['buglary'])).sum()/np.logical_not(trace['buglary']).sum()\n",
    "\n",
    "zad6 = (trace['alarm']*np.logical_not(trace['buglary'])*np.logical_not(trace['earthquake'])).sum() /(np.logical_not(trace['buglary'])*np.logical_not(trace['earthquake'])).sum() * trace['john'].sum()/len(trace['john']) * trace['mary'].sum()/len(trace['mary'])\n",
    "print(p_a, p_b_a, p_e_a, p_wlamanie, zad5, zad6, sep = '\\n')"
   ]
  },
  {
   "cell_type": "markdown",
   "metadata": {
    "deletable": false,
    "editable": false,
    "nbgrader": {
     "checksum": "4c9a6598e75975dae670c8c82468eb40",
     "grade": false,
     "grade_id": "cell-506b8de531ebc17e",
     "locked": true,
     "schema_version": 1,
     "solution": false
    }
   },
   "source": [
    "#### ODPOWIEDŹ:"
   ]
  },
  {
   "cell_type": "markdown",
   "metadata": {
    "deletable": false,
    "nbgrader": {
     "checksum": "8a4b510f6edde05984026568770e55aa",
     "grade": true,
     "grade_id": "cell-f85368d56797124d",
     "locked": false,
     "points": 1,
     "schema_version": 1,
     "solution": true
    }
   },
   "source": [
    "zad1 0.002485\n",
    "zad2 0.3682092555331992\n",
    "zad3 0.2012072434607646\n",
    "zad4 0.9128205128205129\n",
    "zad5 0.0015715322439378394\n",
    "zad6 6.412972048381273e-07"
   ]
  },
  {
   "cell_type": "markdown",
   "metadata": {
    "deletable": false,
    "editable": false,
    "nbgrader": {
     "checksum": "22a892ad8206e6bb4fc40a8269fd2edc",
     "grade": false,
     "grade_id": "cell-299e037cb4bc73bb",
     "locked": true,
     "schema_version": 1,
     "solution": false
    }
   },
   "source": [
    "<div style=\"text-align: right\">&copy; Zakład Inteligencji Obliczeniowej, Instytut Informatyki, Politechnika Krakowska </div>"
   ]
  }
 ],
 "metadata": {
  "kernelspec": {
   "display_name": "Python 3",
   "language": "python",
   "name": "python3"
  },
  "language_info": {
   "codemirror_mode": {
    "name": "ipython",
    "version": 3
   },
   "file_extension": ".py",
   "mimetype": "text/x-python",
   "name": "python",
   "nbconvert_exporter": "python",
   "pygments_lexer": "ipython3",
   "version": "3.6.7"
  }
 },
 "nbformat": 4,
 "nbformat_minor": 2
}
