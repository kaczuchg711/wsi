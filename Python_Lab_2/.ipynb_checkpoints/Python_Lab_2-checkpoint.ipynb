{
 "cells": [
  {
   "cell_type": "markdown",
   "metadata": {
    "deletable": false,
    "editable": false,
    "nbgrader": {
     "checksum": "2878447ed9128508318a9c8416f4e7a3",
     "grade": false,
     "grade_id": "cell-982e98d0ad3ab544",
     "locked": true,
     "schema_version": 1,
     "solution": false
    }
   },
   "source": [
    "# Wstęp do Sztucznej Inteligencji - rok akademicki 2018/2019\n",
    "\n",
    "Przed rozpoczęciem pracy z notatnikiem zmień jego nazwę zgodnie z wzorem: `{NrAlbumu}_{Nazwisko}_{Imie}_{PoprzedniaNazwa}`.\n",
    "\n",
    "Przed wysłaniem notatnika upewnij się, że rozwiązałeś wszystkie zadania/ćwiczenia, w szczególności, że uzupełniłeś wszystkie pola `YOUR CODE HERE` oraz `YOUR ANSWER HERE`."
   ]
  },
  {
   "cell_type": "markdown",
   "metadata": {
    "deletable": false,
    "editable": false,
    "nbgrader": {
     "checksum": "41489ae86235a6fc1f9acbfc47150a51",
     "grade": false,
     "grade_id": "cell-7f6e30d09c33dbe5",
     "locked": true,
     "schema_version": 1,
     "solution": false
    }
   },
   "source": [
    "## Temat: Wprowadzenie do języka Python cz. II\n",
    "Zapoznaj się z treścią niniejszego notatnika czytając i wykonując go komórka po komórce. Wykonaj napotkane zadania/ćwiczenia.\n",
    "\n",
    "### Moduły i skrypty\n",
    "Z plikami z rozszerzeniem `.py` można pracować na 2 sposoby.\n",
    "\n",
    "- jak ze skryptem (ala plik wykonywalny),\n",
    "- jak z modułem (biblioteką) w innych projektach.\n",
    "\n",
    "Utwórz plik tekstowy `pytest.py` o następującej treści (Główna strona Jupyter -> New -> Text File):\n",
    "```python\n",
    "def suma(a,b):\n",
    "    return a+b\n",
    "\n",
    "def roznica(a,b):\n",
    "    return a-b\n",
    "\n",
    "PI = 3.1415\n",
    "\n",
    "print(suma(3,5))\n",
    "```\n",
    "\n",
    "Aby wykonać plik `pytest.py` należy w terminalu (Główna strona Jupyter -> New -> Terminal) wykonać poniższe polecenie:\n",
    "\n",
    "```\n",
    "python pytest.py\n",
    "```\n",
    "Oczywiście należy być w folderze w którym jest plik `pytest.py` lub podać pełną scieżkę do pliku.\n",
    "\n",
    "Po wykonaniu polecenia na ekranie powinien pojawić się wynik 8.\n",
    "\n",
    "Możemy również używać pliku `pytest.py` importując go tak jak wcześniej poznane modułu."
   ]
  },
  {
   "cell_type": "code",
   "execution_count": null,
   "metadata": {},
   "outputs": [],
   "source": [
    "import pytest"
   ]
  },
  {
   "cell_type": "markdown",
   "metadata": {
    "deletable": false,
    "editable": false,
    "nbgrader": {
     "checksum": "1b6aa858c4971dd447495fcac0ab522c",
     "grade": false,
     "grade_id": "cell-73ffa2445c019781",
     "locked": true,
     "schema_version": 1,
     "solution": false
    }
   },
   "source": [
    "W tym przypadku plik również został wykonany, ale mamy też możliwość wykorzystania obiektów zdefiniowanych w naszym module."
   ]
  },
  {
   "cell_type": "code",
   "execution_count": null,
   "metadata": {},
   "outputs": [],
   "source": [
    "pytest.suma(1,4)"
   ]
  },
  {
   "cell_type": "code",
   "execution_count": null,
   "metadata": {},
   "outputs": [],
   "source": [
    "pytest.roznica(pytest.PI,1)"
   ]
  },
  {
   "cell_type": "markdown",
   "metadata": {
    "deletable": false,
    "editable": false,
    "nbgrader": {
     "checksum": "4d0042db9da532fe02a3ee9bab117e27",
     "grade": false,
     "grade_id": "cell-587a8c267163be7b",
     "locked": true,
     "schema_version": 1,
     "solution": false
    }
   },
   "source": [
    "Aby podczas importowania nie wykonywała się linia `print(suma(3,5))` powinna ona znaleźć się w bloku `if __name__==\"__main__\":`, zmodyfikuj plik `pytest.py` w poniższy sposób i sprawdz róźnicę w działaniu.\n",
    "\n",
    "```python\n",
    "def suma(a,b):\n",
    "    return a+b\n",
    "\n",
    "def roznica(a,b):\n",
    "    return a-b\n",
    "\n",
    "PI = 3.1415\n",
    "\n",
    "if __name__==\"__main__\":\n",
    "    print(suma(3,5))\n",
    "```\n",
    "\n",
    "W przypadku wykonywania pliku zmienna `__name__` przyjmuje wartość `\"__main__\"`, a w przypadku importu nazwę modułu, dzięki temu z tego samego pliku możemy korzystać zarówno jak ze skryptu i jak z modułu."
   ]
  },
  {
   "cell_type": "code",
   "execution_count": null,
   "metadata": {},
   "outputs": [],
   "source": [
    "import pytest\n",
    "pytest.suma(1,4)"
   ]
  },
  {
   "cell_type": "markdown",
   "metadata": {
    "deletable": false,
    "editable": false,
    "nbgrader": {
     "checksum": "542b5de148d6e35bbad08e653e1dcb6e",
     "grade": false,
     "grade_id": "cell-8c4c9b015cff0a21",
     "locked": true,
     "schema_version": 1,
     "solution": false
    }
   },
   "source": [
    "### Numpy ( http://www.numpy.org/ )\n",
    "`Numpy` to podstawowa biblioteka do implementacji operacji i algorytmów numerycznych.\n",
    "\n",
    "Głównym obiektem biblioteki jest `ndarray` czyli tablica wielowymiarowa, za pomocą której można reprezentować wektory, macierze, tensory itp.\n",
    "\n",
    "Moduł `numpy` najczęściej imprtowany jest z aliasem `np`."
   ]
  },
  {
   "cell_type": "code",
   "execution_count": 1,
   "metadata": {},
   "outputs": [],
   "source": [
    "import numpy as np"
   ]
  },
  {
   "cell_type": "markdown",
   "metadata": {
    "deletable": false,
    "editable": false,
    "nbgrader": {
     "checksum": "49b6858d279223a5dd1d7c44c450ece6",
     "grade": false,
     "grade_id": "cell-2a8baab57ffc279d",
     "locked": true,
     "schema_version": 1,
     "solution": false
    }
   },
   "source": [
    "Tworzenie obiektów `ndarray`."
   ]
  },
  {
   "cell_type": "code",
   "execution_count": null,
   "metadata": {},
   "outputs": [],
   "source": [
    "a = np.array([1,2,3,4])\n",
    "b = np.array([1.3, 2.5])\n",
    "c = np.array([1.3, 2.5], dtype=np.int) #rzutowanie na typ int\n",
    "d = np.array([1+2j, 3+1j])\n",
    "e = np.array([[1,2,4],[4,5,7]])\n",
    "print('a:', a)\n",
    "print('b:', b)\n",
    "print('c:', c)\n",
    "print('d:', d)\n",
    "print('e:', e)\n",
    "type(a)"
   ]
  },
  {
   "cell_type": "markdown",
   "metadata": {
    "deletable": false,
    "editable": false,
    "nbgrader": {
     "checksum": "582401207dbad1b6ce0da47d033b45a5",
     "grade": false,
     "grade_id": "cell-c9c7caba4c87bba7",
     "locked": true,
     "schema_version": 1,
     "solution": false
    }
   },
   "source": [
    "Podstawowe atrybuty obiektu `ndarray`."
   ]
  },
  {
   "cell_type": "code",
   "execution_count": null,
   "metadata": {},
   "outputs": [],
   "source": [
    "print(a.shape) #wymiary tablicy\n",
    "print(e.shape)\n",
    "print(b.ndim) #liczba wymiarów\n",
    "print(e.ndim)\n",
    "print(c.dtype) #typ danych\n",
    "print(d.dtype) \n",
    "print(d.size) #liczba elemetów\n",
    "print(e.size)"
   ]
  },
  {
   "cell_type": "markdown",
   "metadata": {
    "deletable": false,
    "editable": false,
    "nbgrader": {
     "checksum": "ee1366ff86d541cabdb9e18ffd473656",
     "grade": false,
     "grade_id": "cell-fcb5a3d35e726eb9",
     "locked": true,
     "schema_version": 1,
     "solution": false
    }
   },
   "source": [
    "Do elementów obiektu `ndarray` odwołujemy się w taki sam sposób jak do elementów listy."
   ]
  },
  {
   "cell_type": "code",
   "execution_count": null,
   "metadata": {},
   "outputs": [],
   "source": [
    "print(a[0])\n",
    "print(e[1])\n",
    "print(e[1,2])\n",
    "print(a[1:3])\n",
    "print(e[:,1])\n",
    "print(e[0,:])"
   ]
  },
  {
   "cell_type": "markdown",
   "metadata": {
    "deletable": false,
    "editable": false,
    "nbgrader": {
     "checksum": "f22f26da74a722874964489190119333",
     "grade": false,
     "grade_id": "cell-eda7c533213dbf51",
     "locked": true,
     "schema_version": 1,
     "solution": false
    }
   },
   "source": [
    "Wybieranie elementów spełniających podany warunek."
   ]
  },
  {
   "cell_type": "code",
   "execution_count": null,
   "metadata": {},
   "outputs": [],
   "source": [
    "a[a>2]"
   ]
  },
  {
   "cell_type": "markdown",
   "metadata": {
    "deletable": false,
    "editable": false,
    "nbgrader": {
     "checksum": "ea9ee0373bfe7ba957109f4c058a8353",
     "grade": false,
     "grade_id": "cell-d567c99d0a38760d",
     "locked": true,
     "schema_version": 1,
     "solution": false
    }
   },
   "source": [
    "Wybieranie elementów podajac ich indeksy."
   ]
  },
  {
   "cell_type": "code",
   "execution_count": null,
   "metadata": {},
   "outputs": [],
   "source": [
    "a[[0,1,0,1]]"
   ]
  },
  {
   "cell_type": "markdown",
   "metadata": {
    "deletable": false,
    "editable": false,
    "nbgrader": {
     "checksum": "a0cbc280da34eeb17e0770b124a2c1f4",
     "grade": false,
     "grade_id": "cell-dd91df9cd613a615",
     "locked": true,
     "schema_version": 1,
     "solution": false
    }
   },
   "source": [
    "Przydatne wbudowane metody do tworzenia obiektów `ndarray`."
   ]
  },
  {
   "cell_type": "code",
   "execution_count": null,
   "metadata": {},
   "outputs": [],
   "source": [
    "np.zeros(10)"
   ]
  },
  {
   "cell_type": "code",
   "execution_count": null,
   "metadata": {},
   "outputs": [],
   "source": [
    "np.zeros((2,3))"
   ]
  },
  {
   "cell_type": "code",
   "execution_count": null,
   "metadata": {},
   "outputs": [],
   "source": [
    "np.ones(10)"
   ]
  },
  {
   "cell_type": "code",
   "execution_count": null,
   "metadata": {},
   "outputs": [],
   "source": [
    "np.ones((3,4))"
   ]
  },
  {
   "cell_type": "code",
   "execution_count": null,
   "metadata": {},
   "outputs": [],
   "source": [
    "np.arange(5)"
   ]
  },
  {
   "cell_type": "code",
   "execution_count": null,
   "metadata": {},
   "outputs": [],
   "source": [
    "np.arange(3,15)"
   ]
  },
  {
   "cell_type": "code",
   "execution_count": null,
   "metadata": {},
   "outputs": [],
   "source": [
    "np.arange(3,15,0.9)"
   ]
  },
  {
   "cell_type": "code",
   "execution_count": null,
   "metadata": {},
   "outputs": [],
   "source": [
    "np.linspace(0,1,10) # 10 równorozłożonych punktów od 0 do 1"
   ]
  },
  {
   "cell_type": "markdown",
   "metadata": {
    "deletable": false,
    "editable": false,
    "nbgrader": {
     "checksum": "52c7312d398d39868998e4e41b9d5d39",
     "grade": false,
     "grade_id": "cell-23e7ee58f301e743",
     "locked": true,
     "schema_version": 1,
     "solution": false
    }
   },
   "source": [
    "### Arytmetyka\n",
    "Wszystkie operacje arytmetyczne na obiektach `ndarray` wykonywane są na elementach będących na tych samych pozycjach, a wiec wymiary muszą sie zgadzać."
   ]
  },
  {
   "cell_type": "code",
   "execution_count": null,
   "metadata": {},
   "outputs": [],
   "source": [
    "a = np.array([1,2,3,4])\n",
    "b = np.ones(4)\n",
    "print('a:',a,'b:',b)\n",
    "print('a+b:',a+b)\n",
    "print('a-b:',a-b)\n",
    "print('a*b:',a*b)\n",
    "print('a/(2*b):',a/(2*b))\n",
    "print('a**2:',a**2)\n",
    "print('a**(b/2):',a**(b/2))"
   ]
  },
  {
   "cell_type": "markdown",
   "metadata": {
    "deletable": false,
    "editable": false,
    "nbgrader": {
     "checksum": "3b059a96dccd90db78a9ae6f1ce41c29",
     "grade": false,
     "grade_id": "cell-daa0bbdfd58c174e",
     "locked": true,
     "schema_version": 1,
     "solution": false
    }
   },
   "source": [
    "W module `numpy` wbudowane są również podstawowe funkcje matematyczne, które jako argument przyjmują obiekt `ndarray`, np."
   ]
  },
  {
   "cell_type": "code",
   "execution_count": null,
   "metadata": {},
   "outputs": [],
   "source": [
    "print('sin(a):', np.sin(a))\n",
    "print('log(a):', np.log(a))"
   ]
  },
  {
   "cell_type": "markdown",
   "metadata": {
    "deletable": false,
    "editable": false,
    "nbgrader": {
     "checksum": "06589d245bc832905d6604ba74f46d1b",
     "grade": false,
     "grade_id": "cell-c5db5e4e2fe83276",
     "locked": true,
     "schema_version": 1,
     "solution": false
    }
   },
   "source": [
    "Inne przydatne metody:"
   ]
  },
  {
   "cell_type": "code",
   "execution_count": null,
   "metadata": {},
   "outputs": [],
   "source": [
    "a = np.arange(1,5,0.5)\n",
    "print('a:',a)\n",
    "print('suma elementów:', np.sum(a))\n",
    "print('iloczyn elementów:', np.prod(a))\n",
    "print('cumsum:', np.cumsum(a))\n",
    "print('max:', np.max(a)) #analogicznie minimum\n",
    "print('argmax:', np.argmax(a))"
   ]
  },
  {
   "cell_type": "markdown",
   "metadata": {
    "deletable": false,
    "editable": false,
    "nbgrader": {
     "checksum": "719285236533734490b662fd5c761f37",
     "grade": false,
     "grade_id": "cell-3f65f468c505d5ca",
     "locked": true,
     "schema_version": 1,
     "solution": false
    }
   },
   "source": [
    "W przypadku wiekszej liczby wymiarów możemy wykonywać operacje takie jak np. `sum`, `max`, `min` itp. według zadanego wymiaru `axis`."
   ]
  },
  {
   "cell_type": "code",
   "execution_count": null,
   "metadata": {},
   "outputs": [],
   "source": [
    "m = np.array([[1,2,3],[4,5,6],[7,8,9]])\n",
    "print('m:',m)\n",
    "print('suma:',np.sum(m))\n",
    "print('suma w wierszach:',np.sum(m, axis=1))\n",
    "print('suma w kolumach:',np.sum(m, axis=0))"
   ]
  },
  {
   "cell_type": "markdown",
   "metadata": {
    "deletable": false,
    "editable": false,
    "nbgrader": {
     "checksum": "1e7f53efae247011d34c98d766399afa",
     "grade": false,
     "grade_id": "cell-bbeb35b235c7629e",
     "locked": true,
     "schema_version": 1,
     "solution": false
    }
   },
   "source": [
    "Zmiana wymiarów:"
   ]
  },
  {
   "cell_type": "code",
   "execution_count": null,
   "metadata": {},
   "outputs": [],
   "source": [
    "a = np.ones(15)\n",
    "print(a)\n",
    "print(a.reshape(3,5))"
   ]
  },
  {
   "cell_type": "markdown",
   "metadata": {
    "deletable": false,
    "editable": false,
    "nbgrader": {
     "checksum": "46b093de6d766959924d7323946585dd",
     "grade": false,
     "grade_id": "cell-d0920720f942018c",
     "locked": true,
     "schema_version": 1,
     "solution": false
    }
   },
   "source": [
    "### Algebra liniowa"
   ]
  },
  {
   "cell_type": "code",
   "execution_count": null,
   "metadata": {},
   "outputs": [],
   "source": [
    "v = np.array([1,1])\n",
    "m = np.array([[1,2],[3,4]])\n",
    "print('wektor v:',v)\n",
    "print('macierz m:',m)\n",
    "print('transpozycja wektora:',v.T) #nic nie zmienia\n",
    "print('transpozycja macierzy:',m.T)\n",
    "print('wektor * wektor:', np.dot(v,v)) #iloczyn skalarny\n",
    "print('macierz * wektor:', np.dot(m,v))\n",
    "print('wektor * macierz:', np.dot(v,m))"
   ]
  },
  {
   "cell_type": "markdown",
   "metadata": {
    "deletable": false,
    "editable": false,
    "nbgrader": {
     "checksum": "ad3251009130e4b2a511da3559894a8e",
     "grade": false,
     "grade_id": "cell-be7e13b1d3ba9950",
     "locked": true,
     "schema_version": 1,
     "solution": false
    }
   },
   "source": [
    "Ponieważ transpozycja tablicy jednowymiarowaj nic nie zmienia, mnożenie macierzy przez wektor nie zawsze zadziała poprawnie. Aby operacje były zgodne z rachunkiem macierzowym wektor powinnien być zdefiniowany jako macierz o jednym wierszu/kolumnie. Można w tym celu zamiast `np.array` użyć `np.matrix`."
   ]
  },
  {
   "cell_type": "code",
   "execution_count": null,
   "metadata": {},
   "outputs": [],
   "source": [
    "v = np.array([[1,1]])\n",
    "m = np.array([[1,2],[3,4]])\n",
    "print('wektor v:',v)\n",
    "print('macierz m:',m)\n",
    "print('transpozycja wektora:',v.T)\n",
    "print('transpozycja macierzy:',m.T)\n",
    "print('wektor razy wektor:', np.dot(v,v.T)) #macierz o jednym elemencie\n",
    "print('macierz razy wektor:', np.dot(m,v.T)) #macierz o jednej kolumnie\n",
    "print('wektor razy macierz:', np.dot(v,m)) #macierz o jednym wierszu"
   ]
  },
  {
   "cell_type": "code",
   "execution_count": null,
   "metadata": {},
   "outputs": [],
   "source": [
    "np.matrix([1,2,3])"
   ]
  },
  {
   "cell_type": "code",
   "execution_count": null,
   "metadata": {},
   "outputs": [],
   "source": [
    "np.matrix([[1,2],[3,4]])"
   ]
  },
  {
   "cell_type": "markdown",
   "metadata": {
    "deletable": false,
    "editable": false,
    "nbgrader": {
     "checksum": "7b31a848bb6dc270bbacb7b8386ddcc8",
     "grade": false,
     "grade_id": "cell-ec4bb372f694bea8",
     "locked": true,
     "schema_version": 1,
     "solution": false
    }
   },
   "source": [
    "Wyznacznik i macierz odwrotna (`np.linalg`)"
   ]
  },
  {
   "cell_type": "code",
   "execution_count": null,
   "metadata": {},
   "outputs": [],
   "source": [
    "m = np.matrix([[1,2],[3,4]])\n",
    "print('macierz m:',m)\n",
    "print('det(m):', np.linalg.det(m))\n",
    "print('m^(-1):', np.linalg.inv(m))\n",
    "print('m*m^(-1):', np.dot(m,np.linalg.inv(m)))"
   ]
  },
  {
   "cell_type": "markdown",
   "metadata": {
    "deletable": false,
    "editable": false,
    "nbgrader": {
     "checksum": "d6d7110d09f2859ea8a6b9365527eead",
     "grade": false,
     "grade_id": "cell-8ae7ff9ca9a72eca",
     "locked": true,
     "schema_version": 1,
     "solution": false
    }
   },
   "source": [
    "### Scipy ( http://www.scipy.org )\n",
    "`Scipy` to zbudowany na bazie `numpy` moduł zawierający podstawowe algorytmy numeryczne służące m.in do całkowania, optymalizacji, interpolacji itp.\n",
    "\n",
    "#### Całkowanie numeryczne"
   ]
  },
  {
   "cell_type": "code",
   "execution_count": 2,
   "metadata": {},
   "outputs": [
    {
     "ename": "ModuleNotFoundError",
     "evalue": "No module named 'scipy'",
     "output_type": "error",
     "traceback": [
      "\u001b[0;31m---------------------------------------------------------------------------\u001b[0m",
      "\u001b[0;31mModuleNotFoundError\u001b[0m                       Traceback (most recent call last)",
      "\u001b[0;32m<ipython-input-2-e595bed61499>\u001b[0m in \u001b[0;36m<module>\u001b[0;34m()\u001b[0m\n\u001b[0;32m----> 1\u001b[0;31m \u001b[0;32mfrom\u001b[0m \u001b[0mscipy\u001b[0m\u001b[0;34m.\u001b[0m\u001b[0mintegrate\u001b[0m \u001b[0;32mimport\u001b[0m \u001b[0mquad\u001b[0m\u001b[0;34m,\u001b[0m \u001b[0mtrapz\u001b[0m\u001b[0;34m\u001b[0m\u001b[0;34m\u001b[0m\u001b[0m\n\u001b[0m\u001b[1;32m      2\u001b[0m \u001b[0;34m\u001b[0m\u001b[0m\n\u001b[1;32m      3\u001b[0m \u001b[0;32mdef\u001b[0m \u001b[0mfunc\u001b[0m\u001b[0;34m(\u001b[0m\u001b[0mx\u001b[0m\u001b[0;34m)\u001b[0m\u001b[0;34m:\u001b[0m\u001b[0;34m\u001b[0m\u001b[0;34m\u001b[0m\u001b[0m\n\u001b[1;32m      4\u001b[0m     \u001b[0;32mreturn\u001b[0m \u001b[0mx\u001b[0m\u001b[0;34m**\u001b[0m\u001b[0;36m2\u001b[0m\u001b[0;34m\u001b[0m\u001b[0;34m\u001b[0m\u001b[0m\n\u001b[1;32m      5\u001b[0m \u001b[0;34m\u001b[0m\u001b[0m\n",
      "\u001b[0;31mModuleNotFoundError\u001b[0m: No module named 'scipy'"
     ]
    }
   ],
   "source": [
    "from scipy.integrate import quad, trapz\n",
    "\n",
    "def func(x):\n",
    "    return x**2\n",
    "\n",
    "# całka z x^2 na przedziale [0,1] \n",
    "# metoda kwadratury gaussa\n",
    "c1 = quad(func, 0, 1) # zwraca wartość całki i oszacowany błąd\n",
    "print('quad:',c1) \n",
    "\n",
    "# metoda trapezów\n",
    "x = np.linspace(0, 1,1000)\n",
    "y = func(x)\n",
    "c2 = trapz(y, x) # zwaraca wartość całki\n",
    "print('trapz:',c2)"
   ]
  },
  {
   "cell_type": "markdown",
   "metadata": {
    "deletable": false,
    "editable": false,
    "nbgrader": {
     "checksum": "a737beefbafa077b60d93b535c8ed1c3",
     "grade": false,
     "grade_id": "cell-8287d3a88b549fff",
     "locked": true,
     "schema_version": 1,
     "solution": false
    }
   },
   "source": [
    "#### Optymalizacja"
   ]
  },
  {
   "cell_type": "code",
   "execution_count": null,
   "metadata": {},
   "outputs": [],
   "source": [
    "from scipy.optimize import minimize\n",
    "\n",
    "def func(x):\n",
    "    return np.sum(x**2)  #suma kwadratów\n",
    "\n",
    "# punkt startowy\n",
    "x0 = [10, 10.]\n",
    "# minimalizacja metodą nelder-mead, dostępnych wiele innych algorytmów\n",
    "res = minimize(func, x0, method='nelder-mead', options={'xtol': 1e-8, 'disp': True})\n",
    "print('punkt minimum:', res.x)\n",
    "print('wartośc minimum:', res.fun)"
   ]
  },
  {
   "cell_type": "markdown",
   "metadata": {
    "deletable": false,
    "editable": false,
    "nbgrader": {
     "checksum": "58ee43e8adc03ba5a70cc83dfc97da7b",
     "grade": false,
     "grade_id": "cell-6b092cd550cbaa98",
     "locked": true,
     "schema_version": 1,
     "solution": false
    }
   },
   "source": [
    "#### Interpolacja"
   ]
  },
  {
   "cell_type": "code",
   "execution_count": null,
   "metadata": {},
   "outputs": [],
   "source": [
    "from scipy.interpolate import lagrange\n",
    "\n",
    "# punkty interpolacji\n",
    "x = np.linspace(0.0,6.0,10) # 10 równorozłożonych punktów od 0 do 6\n",
    "y = np.sin(x)\n",
    "print('(x,y):',list(zip(x,y)))  #zip łączy elementy tablic w pary\n",
    "\n",
    "# wielomian interpolacyjny Lagrange'a, stopień taki jak liczba punktów\n",
    "w = lagrange(x, y)\n",
    "print('w_coef:', w.coef)"
   ]
  },
  {
   "cell_type": "markdown",
   "metadata": {
    "deletable": false,
    "editable": false,
    "nbgrader": {
     "checksum": "33af092674f8062f42a405d196b4f985",
     "grade": false,
     "grade_id": "cell-b1f61777755af4b3",
     "locked": true,
     "schema_version": 1,
     "solution": false
    }
   },
   "source": [
    "### Matplotlib ( http://matplotlib.org/ )\n",
    "Moduł `matplotlib` to bardzo rozbudowana biblioteka do tworzenia najróżniejszych wykresów 2D i 3D (warto zaglądnąć do galerii przykładowych wykresów http://matplotlib.org/gallery.html)."
   ]
  },
  {
   "cell_type": "code",
   "execution_count": 3,
   "metadata": {},
   "outputs": [
    {
     "ename": "ModuleNotFoundError",
     "evalue": "No module named 'matplotlib'",
     "output_type": "error",
     "traceback": [
      "\u001b[0;31m---------------------------------------------------------------------------\u001b[0m",
      "\u001b[0;31mModuleNotFoundError\u001b[0m                       Traceback (most recent call last)",
      "\u001b[0;32m<ipython-input-3-9c08faf17c40>\u001b[0m in \u001b[0;36m<module>\u001b[0;34m()\u001b[0m\n\u001b[1;32m      1\u001b[0m \u001b[0;31m# import modułu matplotlib\u001b[0m\u001b[0;34m\u001b[0m\u001b[0;34m\u001b[0m\u001b[0;34m\u001b[0m\u001b[0m\n\u001b[0;32m----> 2\u001b[0;31m \u001b[0;32mimport\u001b[0m \u001b[0mmatplotlib\u001b[0m\u001b[0;34m.\u001b[0m\u001b[0mpyplot\u001b[0m \u001b[0;32mas\u001b[0m \u001b[0mplt\u001b[0m\u001b[0;34m\u001b[0m\u001b[0;34m\u001b[0m\u001b[0m\n\u001b[0m\u001b[1;32m      3\u001b[0m \u001b[0;34m\u001b[0m\u001b[0m\n\u001b[1;32m      4\u001b[0m \u001b[0;31m# rysunki domyślnie powinny wyświetlać się w notatniku\u001b[0m\u001b[0;34m\u001b[0m\u001b[0;34m\u001b[0m\u001b[0;34m\u001b[0m\u001b[0m\n\u001b[1;32m      5\u001b[0m \u001b[0;31m# gdyby tak nie było należy odkomentować poniższa linijkę\u001b[0m\u001b[0;34m\u001b[0m\u001b[0;34m\u001b[0m\u001b[0;34m\u001b[0m\u001b[0m\n",
      "\u001b[0;31mModuleNotFoundError\u001b[0m: No module named 'matplotlib'"
     ]
    }
   ],
   "source": [
    "# import modułu matplotlib\n",
    "import matplotlib.pyplot as plt\n",
    "\n",
    "# rysunki domyślnie powinny wyświetlać się w notatniku\n",
    "# gdyby tak nie było należy odkomentować poniższa linijkę\n",
    "#%matplotlib inline"
   ]
  },
  {
   "cell_type": "markdown",
   "metadata": {
    "deletable": false,
    "editable": false,
    "nbgrader": {
     "checksum": "804288d1703cac6b9b9a3b1c947c2ed5",
     "grade": false,
     "grade_id": "cell-0cd6578410251d2e",
     "locked": true,
     "schema_version": 1,
     "solution": false
    }
   },
   "source": [
    "Szybki wykres dla przykładu interpolacji funkcji sinus wielomianem lagrange'a."
   ]
  },
  {
   "cell_type": "code",
   "execution_count": null,
   "metadata": {},
   "outputs": [],
   "source": [
    "plt.figure()\n",
    "plt.plot(x, y, 'o')\n",
    "x2 = np.linspace(0.0,6.0,1000)\n",
    "y2 = w(x2)\n",
    "plt.plot(x2,y2, 'r')\n",
    "plt.show()"
   ]
  },
  {
   "cell_type": "markdown",
   "metadata": {
    "deletable": false,
    "editable": false,
    "nbgrader": {
     "checksum": "5fc12d7ff2d016a144c6c4158c8dd356",
     "grade": false,
     "grade_id": "cell-778e6dddecbf2a4b",
     "locked": true,
     "schema_version": 1,
     "solution": false
    }
   },
   "source": [
    "Prosty przykład (jeden wykres na rysunku)."
   ]
  },
  {
   "cell_type": "code",
   "execution_count": null,
   "metadata": {},
   "outputs": [],
   "source": [
    "# przykładowe dane\n",
    "x = np.linspace(1, 10, 100)\n",
    "y = np.sin(x)\n",
    "\n",
    "# tworzenie rysunku\n",
    "fig, ax = plt.subplots() #zwraca obiekt rysunku fig, i obiekt wykresu na rysunku ax\n",
    "# rysowanie wykresu\n",
    "ax.plot(x, y)\n",
    "# wyświetlenie rysunku\n",
    "plt.show()"
   ]
  },
  {
   "cell_type": "markdown",
   "metadata": {
    "deletable": false,
    "editable": false,
    "nbgrader": {
     "checksum": "ce9b1e46a5c4e74402540df9e055cb42",
     "grade": false,
     "grade_id": "cell-0b87bc163ea25d17",
     "locked": true,
     "schema_version": 1,
     "solution": false
    }
   },
   "source": [
    "Modyfikowanie wyglądu."
   ]
  },
  {
   "cell_type": "code",
   "execution_count": null,
   "metadata": {},
   "outputs": [],
   "source": [
    "# przykładowe dane\n",
    "x = np.linspace(1, 10, 100)\n",
    "y = np.sin(x)\n",
    "\n",
    "# tworzenie rysunku\n",
    "fig, ax = plt.subplots()\n",
    "# rysowanie wykresu\n",
    "ax.plot(x, y, c='r', marker='+', linestyle='-.', linewidth=5) #wiele innych opcji patrz w dokumentacji\n",
    "# wyświetlenie rysunku\n",
    "plt.show()"
   ]
  },
  {
   "cell_type": "markdown",
   "metadata": {
    "deletable": false,
    "editable": false,
    "nbgrader": {
     "checksum": "09dce60bd3cceb29f3133314d5ef5c31",
     "grade": false,
     "grade_id": "cell-3fe5dbc1f560d96f",
     "locked": true,
     "schema_version": 1,
     "solution": false
    }
   },
   "source": [
    "Dodanie tytułu, opisu osi, siatki i legendy."
   ]
  },
  {
   "cell_type": "code",
   "execution_count": null,
   "metadata": {},
   "outputs": [],
   "source": [
    "# przykładowe dane\n",
    "x = np.linspace(1, 10, 100)\n",
    "y = np.sin(x)\n",
    "\n",
    "# tworzenie rysunku\n",
    "fig, ax = plt.subplots()\n",
    "# rysowanie wykresu\n",
    "ax.plot(x, y, c='r', linestyle='-.', label='sin(x)') #wiele innych opcji patrz w dokumentacji\n",
    "ax.legend() # dla legendy można ustalić pozycje podając argument 0,1,2,3 lub 4\n",
    "ax.set_title('Sin(x)')\n",
    "ax.set_xlabel('x')\n",
    "ax.set_ylabel('y')\n",
    "ax.grid(True)\n",
    "# wyświetlenie rysunku\n",
    "plt.show()"
   ]
  },
  {
   "cell_type": "markdown",
   "metadata": {
    "deletable": false,
    "editable": false,
    "nbgrader": {
     "checksum": "f7f0e6146db53ca4f0701930e0bb32a9",
     "grade": false,
     "grade_id": "cell-03fc172c51245886",
     "locked": true,
     "schema_version": 1,
     "solution": false
    }
   },
   "source": [
    "Wartości na osiach dobierane są automatycznie jednak możemy to zmodyfikować."
   ]
  },
  {
   "cell_type": "code",
   "execution_count": null,
   "metadata": {},
   "outputs": [],
   "source": [
    "# przykładowe dane\n",
    "x = np.linspace(1, 10, 100)\n",
    "y = np.sin(x)\n",
    "\n",
    "# tworzenie rysunku\n",
    "fig, ax = plt.subplots()\n",
    "# rysowanie wykresu\n",
    "ax.plot(x, y, c='r', linestyle='-.', label='sin(x)') #wiele innych opcji patrz w dokumentacji\n",
    "ax.legend() # dla legendy mozna ustalic pozycje podając argument 0,1,2,3 lub 4\n",
    "ax.set_title('Sin(x)')\n",
    "ax.set_xlabel('x')\n",
    "ax.set_ylabel('y')\n",
    "ax.set_xlim(0,11)\n",
    "ax.set_ylim(-1.1,1.1)\n",
    "ax.grid(True)\n",
    "# wyświetlenie rysunku\n",
    "plt.show()"
   ]
  },
  {
   "cell_type": "markdown",
   "metadata": {
    "deletable": false,
    "editable": false,
    "nbgrader": {
     "checksum": "eb67fe41e80f8cb56716562c3a23808f",
     "grade": false,
     "grade_id": "cell-b91526f6cd20e549",
     "locked": true,
     "schema_version": 1,
     "solution": false
    }
   },
   "source": [
    "Więcej wykresów na jednym rysunku."
   ]
  },
  {
   "cell_type": "code",
   "execution_count": null,
   "metadata": {},
   "outputs": [],
   "source": [
    "# przykładowe dane\n",
    "x1 = np.linspace(1, 10, 100)\n",
    "y1 = np.sin(x)\n",
    "x2 = np.linspace(1, 10, 10)\n",
    "y2 = np.sin(x2)\n",
    "\n",
    "# tworzenie rysunku\n",
    "fig, (ax1, ax2) = plt.subplots(nrows=2, ncols=1) # dwa wykresy jeden pod drugim\n",
    "# rysowanie wykresu nr 1\n",
    "ax1.plot(x1, y1, c='r', linestyle='-.', label='sin(x)') #wiele innych opcji patrz w dokumentacji\n",
    "ax1.legend() # dla legendy mozna ustalic pozycje podając argument 0,1,2,3 lub 4\n",
    "ax1.set_title('Sin(x) nr 1')\n",
    "ax1.set_xlabel('x')\n",
    "ax1.set_ylabel('y')\n",
    "ax1.grid(True)\n",
    "# rysowanie wykresu nr 2\n",
    "ax2.scatter(x2, y2, color='r', label='sin(x)') #wiele innych opcji patrz w dokumentacji\n",
    "ax2.legend() # dla legendy mozna ustalic pozycje podając argument 0,1,2,3 lub 4\n",
    "ax2.set_title('Sin(x) nr 2')\n",
    "ax2.set_xlabel('x')\n",
    "ax2.set_ylabel('y')\n",
    "ax2.grid(True)\n",
    "\n",
    "# wyświetlenie rysunku\n",
    "plt.show()"
   ]
  },
  {
   "cell_type": "markdown",
   "metadata": {
    "deletable": false,
    "editable": false,
    "nbgrader": {
     "checksum": "646560b0e7f70fd88b1567dd48ede03b",
     "grade": false,
     "grade_id": "cell-1a4affad785c2c5f",
     "locked": true,
     "schema_version": 1,
     "solution": false
    }
   },
   "source": [
    "Histogram."
   ]
  },
  {
   "cell_type": "code",
   "execution_count": null,
   "metadata": {},
   "outputs": [],
   "source": [
    "# Aby mieć polskie znaki w tekstach na wykresie należy zmienic czcionkę\n",
    "plt.rcParams['font.family'] = 'DejaVu Sans'\n",
    "\n",
    "# przykładowe dane\n",
    "x = np.random.randn(100) # sto punktów ze standardowego rozkładu normalnego\n",
    "\n",
    "# tworzenie rysunku\n",
    "fig, (ax1, ax2) = plt.subplots(nrows=2, ncols=1) # dwa wykresy jeden pod drugim\n",
    "# rysowanie wykresu nr 1\n",
    "ax1.scatter(range(len(x)), x, color='r') \n",
    "ax1.set_title('Random')\n",
    "ax1.set_xlabel('nr')\n",
    "ax1.set_ylabel('y')\n",
    "ax1.grid(True)\n",
    "# rysowanie wykresu nr 2\n",
    "ax2.hist(x, 20) #wiele innych opcji patrz w dokumentacji\n",
    "ax2.set_xlabel('x')\n",
    "ax2.set_ylabel(u'częstość')\n",
    "ax2.grid(True)\n",
    "\n",
    "# wyświetlenie rysunku\n",
    "plt.show()"
   ]
  },
  {
   "cell_type": "markdown",
   "metadata": {
    "deletable": false,
    "editable": false,
    "nbgrader": {
     "checksum": "38c14bf68f31478a54d14c3ba570e91c",
     "grade": false,
     "grade_id": "cell-8ecceb5c4654963b",
     "locked": true,
     "schema_version": 1,
     "solution": false
    }
   },
   "source": [
    "Wykres 3D."
   ]
  },
  {
   "cell_type": "code",
   "execution_count": null,
   "metadata": {},
   "outputs": [],
   "source": [
    "from mpl_toolkits.mplot3d import Axes3D\n",
    "\n",
    "x = np.random.randn(100)\n",
    "y = np.random.randn(100)\n",
    "z = np.random.randn(100)\n",
    "\n",
    "fig = plt.figure()\n",
    "ax = fig.add_subplot(111, projection='3d')\n",
    "ax.scatter(x, y, z, c='r', marker='o')\n",
    "ax.set_xlabel('X')\n",
    "ax.set_ylabel('Y')\n",
    "ax.set_zlabel('Z')\n",
    "\n",
    "plt.show()"
   ]
  },
  {
   "cell_type": "markdown",
   "metadata": {
    "deletable": false,
    "editable": false,
    "nbgrader": {
     "checksum": "69692a775841419636b19840af8bf5ce",
     "grade": false,
     "grade_id": "cell-f7d3f298d0733cb7",
     "locked": true,
     "schema_version": 1,
     "solution": false
    }
   },
   "source": [
    "Fajny przykład z galerii."
   ]
  },
  {
   "cell_type": "code",
   "execution_count": null,
   "metadata": {},
   "outputs": [],
   "source": [
    "from mpl_toolkits.mplot3d import axes3d\n",
    "import matplotlib.pyplot as plt\n",
    "from matplotlib import cm\n",
    "\n",
    "fig = plt.figure()\n",
    "ax = fig.gca(projection='3d')\n",
    "X, Y, Z = axes3d.get_test_data(0.05)\n",
    "ax.plot_surface(X, Y, Z, rstride=8, cstride=8, alpha=0.3)\n",
    "cset = ax.contour(X, Y, Z, zdir='z', offset=-100, cmap=cm.coolwarm)\n",
    "cset = ax.contour(X, Y, Z, zdir='x', offset=-40, cmap=cm.coolwarm)\n",
    "cset = ax.contour(X, Y, Z, zdir='y', offset=40, cmap=cm.coolwarm)\n",
    "\n",
    "ax.set_xlabel('X')\n",
    "ax.set_xlim(-40, 40)\n",
    "ax.set_ylabel('Y')\n",
    "ax.set_ylim(-40, 40)\n",
    "ax.set_zlabel('Z')\n",
    "ax.set_zlim(-100, 100)\n",
    "\n",
    "plt.show()"
   ]
  },
  {
   "cell_type": "markdown",
   "metadata": {
    "deletable": false,
    "editable": false,
    "nbgrader": {
     "checksum": "d273b3367403009b836a63a9f643933e",
     "grade": false,
     "grade_id": "cell-016551ec102a904e",
     "locked": true,
     "schema_version": 1,
     "solution": false
    }
   },
   "source": [
    "### Pandas (http://pandas.pydata.org/)\n",
    "`Pandas` to moduł do szybkiego i wygodnego przetwarzania i analizowania danych w postaci tabel."
   ]
  },
  {
   "cell_type": "code",
   "execution_count": null,
   "metadata": {},
   "outputs": [],
   "source": [
    "# import modułu pandas\n",
    "import pandas as pd"
   ]
  },
  {
   "cell_type": "markdown",
   "metadata": {
    "deletable": false,
    "editable": false,
    "nbgrader": {
     "checksum": "ef0bbe4e43910ae3cd02384632cb042a",
     "grade": false,
     "grade_id": "cell-39399e23796475e9",
     "locked": true,
     "schema_version": 1,
     "solution": false
    }
   },
   "source": [
    "Podstawowym obiektem modułu `pandas` jest `DataFrame`."
   ]
  },
  {
   "cell_type": "code",
   "execution_count": null,
   "metadata": {},
   "outputs": [],
   "source": [
    "# stworzenie obiektu dataframe\n",
    "df = pd.DataFrame([[1,2,3],[1,2,3]], columns=['A','B','C'])"
   ]
  },
  {
   "cell_type": "code",
   "execution_count": null,
   "metadata": {},
   "outputs": [],
   "source": [
    "df"
   ]
  },
  {
   "cell_type": "markdown",
   "metadata": {
    "deletable": false,
    "editable": false,
    "nbgrader": {
     "checksum": "16b36296eb6ecd8f40a5e7bd12c264d9",
     "grade": false,
     "grade_id": "cell-56a9ba745a61d389",
     "locked": true,
     "schema_version": 1,
     "solution": false
    }
   },
   "source": [
    "Obiekt `DataFrame` możemy stworzyć bezpośrednio wczytując dane z pliku np. txt, csv, xls itp."
   ]
  },
  {
   "cell_type": "code",
   "execution_count": null,
   "metadata": {},
   "outputs": [],
   "source": [
    "# wczytanie danych z pliku xls\n",
    "df_titanic = pd.read_excel('titanic.xls')"
   ]
  },
  {
   "cell_type": "code",
   "execution_count": null,
   "metadata": {},
   "outputs": [],
   "source": [
    "# wyświetlenie pierwszych n wierszy\n",
    "df_titanic.head(6)"
   ]
  },
  {
   "cell_type": "code",
   "execution_count": null,
   "metadata": {},
   "outputs": [],
   "source": [
    "# wyświetlenie ostatnich n wierszy\n",
    "df_titanic.tail(6)"
   ]
  },
  {
   "cell_type": "code",
   "execution_count": null,
   "metadata": {},
   "outputs": [],
   "source": [
    "# wyświetlenie podstawowych statystyk\n",
    "df_titanic.describe().T  #transpozycja dla lepszej czytelności\n",
    "# wyniki tylko dla kolumn zawierających dane liczbowe"
   ]
  },
  {
   "cell_type": "code",
   "execution_count": null,
   "metadata": {},
   "outputs": [],
   "source": [
    "# odwołanie do konkretnej kolumny\n",
    "df_titanic['age'][:10]  # pierwsze 10"
   ]
  },
  {
   "cell_type": "code",
   "execution_count": null,
   "metadata": {},
   "outputs": [],
   "source": [
    "# to samo uzyskamy pisząc\n",
    "df_titanic.age[:10]"
   ]
  },
  {
   "cell_type": "code",
   "execution_count": null,
   "metadata": {},
   "outputs": [],
   "source": [
    "# lista nazw kolumn\n",
    "df_titanic.columns"
   ]
  },
  {
   "cell_type": "markdown",
   "metadata": {
    "deletable": false,
    "editable": false,
    "nbgrader": {
     "checksum": "cd2729ef24b0f98d3ad61e35fc9e0e2e",
     "grade": false,
     "grade_id": "cell-ad3e942cbd8fa3d9",
     "locked": true,
     "schema_version": 1,
     "solution": false
    }
   },
   "source": [
    "Brakujące dane w komórkach zastępowane są poprzez obiekt `NaN`."
   ]
  },
  {
   "cell_type": "code",
   "execution_count": null,
   "metadata": {},
   "outputs": [],
   "source": [
    "# policzenie liczby brakujących wartości w poszczególnych kolumnach\n",
    "df_titanic.apply(lambda x: sum(x.isnull()),axis=0)"
   ]
  },
  {
   "cell_type": "code",
   "execution_count": null,
   "metadata": {},
   "outputs": [],
   "source": [
    "# brakujące dane możemy zastąpić ustaloną wartością np. -1\n",
    "df_titanic.fillna(-1, inplace=True)\n",
    "df_titanic.apply(lambda x: sum(x.isnull()),axis=0)"
   ]
  },
  {
   "cell_type": "code",
   "execution_count": null,
   "metadata": {},
   "outputs": [],
   "source": [
    "# wybieranie kilku kolumn\n",
    "df_titanic2 = df_titanic[['name','age']]\n",
    "df_titanic2.head()"
   ]
  },
  {
   "cell_type": "code",
   "execution_count": null,
   "metadata": {},
   "outputs": [],
   "source": [
    "# usuwanie kolumn\n",
    "df_titanic = df_titanic.drop(['name','cabin','boat', 'body', 'ticket', 'home.dest'], 1)\n",
    "df_titanic.head()"
   ]
  },
  {
   "cell_type": "code",
   "execution_count": null,
   "metadata": {},
   "outputs": [],
   "source": [
    "# unikalne wartości w kolumnach\n",
    "for col in df_titanic.columns:\n",
    "    print(col, df_titanic[col].unique())"
   ]
  },
  {
   "cell_type": "markdown",
   "metadata": {
    "deletable": false,
    "editable": false,
    "nbgrader": {
     "checksum": "00fa070f0a40f700bf25b823ead1ab9c",
     "grade": false,
     "grade_id": "cell-86d87d4bd4ef4b8d",
     "locked": true,
     "schema_version": 1,
     "solution": false
    }
   },
   "source": [
    "Rysowanie wykresów bezpośednio z tabel."
   ]
  },
  {
   "cell_type": "code",
   "execution_count": null,
   "metadata": {},
   "outputs": [],
   "source": [
    "import matplotlib.pyplot as plt\n",
    "# rozkład wieku\n",
    "df_titanic['age'].hist()  # pik w -1 to nasze brakujące dane\n",
    "plt.show()"
   ]
  },
  {
   "cell_type": "code",
   "execution_count": null,
   "metadata": {},
   "outputs": [],
   "source": [
    "# bar plot z dwóch kolumn\n",
    "ct = pd.crosstab(df_titanic['pclass'], df_titanic['survived'])\n",
    "ct.plot(kind='bar')\n",
    "plt.show()"
   ]
  },
  {
   "cell_type": "markdown",
   "metadata": {
    "deletable": false,
    "editable": false,
    "nbgrader": {
     "checksum": "a447eb263278e7192b99553852a1cb6a",
     "grade": false,
     "grade_id": "cell-1a2553eea2bb61fe",
     "locked": true,
     "schema_version": 1,
     "solution": false
    }
   },
   "source": [
    "Na danych w postaci obiektów `DataFrame` można wykonywać bardzo dużo przeróżnych operacji jak również pracować z nimi jak z tabelami w bazach danych (zapytania SQL). Więcej w dokumentacji."
   ]
  },
  {
   "cell_type": "markdown",
   "metadata": {
    "deletable": false,
    "editable": false,
    "nbgrader": {
     "checksum": "24ecf5320cd7cb9cb81c0b0146080365",
     "grade": false,
     "grade_id": "cell-97e6dcb0f453b0b1",
     "locked": true,
     "schema_version": 1,
     "solution": false
    }
   },
   "source": [
    "### Przedstawione wyżej przykłady to tylko bardzo niewielki przykład możliwości modułów numpy, scipy, matplotlib oraz pandas. Zachęcam do poczytania (przeglądnięcia) dokumentacji tych modułów."
   ]
  },
  {
   "cell_type": "markdown",
   "metadata": {
    "deletable": false,
    "editable": false,
    "nbgrader": {
     "checksum": "3a35f89bc9e3109bf1ac0cccaea5eded",
     "grade": false,
     "grade_id": "cell-22fcc0f320216f27",
     "locked": true,
     "schema_version": 1,
     "solution": false
    }
   },
   "source": [
    "## Zadanie 1:\n",
    "Napisz funkcję wyliczającą macierz odległości (euklidesowych) dla podanego zbioru wektorów. Funkcja powinna działać dla dowolnej liczby wektorów oraz dowolnego wymiaru tych wektorów.\n",
    "\n",
    "Macierz odległości $M = [m_{ij}]$, gdzie $m_{ij}$ to odległość Euklidesa między $i$-tym a $j$-tym wektorem.  \n",
    "\n",
    "Funkcję tą napisz w dwóch wersjach. Jedną z użyciem pakietu `numpy`, a drugą bez (czysty Python). Porównaj czasy ich działania dla losowych danych wejściowych. Do pomiaru czasu można wykorzystać moduł `time` lub dostępną w notatniku metodę magiczną `%%timeit` (http://ipython.readthedocs.io/en/stable/interactive/magics.html).\n",
    "\n",
    "Dla wersji z użyciem pakietu `numpy` spróbuj napisać tą funkcję tak aby uniknąć wykorzystywania pętli `for` (dodatkowe punkty)."
   ]
  },
  {
   "cell_type": "code",
   "execution_count": null,
   "metadata": {
    "deletable": false,
    "nbgrader": {
     "checksum": "7c9db2a657420fd93f7cedf470af36b4",
     "grade": true,
     "grade_id": "num-zad",
     "locked": false,
     "points": 8,
     "schema_version": 1,
     "solution": true
    }
   },
   "outputs": [],
   "source": [
    "import numpy as np\n",
    "import random\n",
    "import time\n",
    "\n",
    "# Dane wejściowe:\n",
    "m = 1000  # liczba wektorów\n",
    "n = 300  # wymiar wektora\n",
    "wektory = [[random.random() for _ in range(n)] for _ in range(m)]\n",
    "\n",
    "# YOUR CODE HERE\n",
    "raise NotImplementedError()"
   ]
  },
  {
   "cell_type": "markdown",
   "metadata": {
    "deletable": false,
    "editable": false,
    "nbgrader": {
     "checksum": "fdd9a3518d451fbc32a0d8f2bfb0e910",
     "grade": false,
     "grade_id": "cell-910c24eef138c79e",
     "locked": true,
     "schema_version": 1,
     "solution": false
    }
   },
   "source": [
    "## Zadanie 2:\n",
    "Korzystając z pakietu `scipy.optimize` znajdź minimum poniższej funkcji\n",
    "$$ F(x,y)=\\frac{1}{f}\\left(-a\\exp{[-b\\sqrt{\\frac{1}{n}(x^2+y^2)}]}-\\exp{[\\frac{1}{n}(\\cos(cx)+\\cos(cy))]}+a+\\exp(1)+d \\right) $$\n",
    "dla $a=20, b=0.2, c=2\\pi, d=5.7, f=0.8, n=2$ oraz przy ograniczniach $x,y\\in[-1.5,1.5]$.\n",
    "\n",
    "Wypróbuj różne punkty startowe, czy zawsze dostajesz ten sam wyniki?, dalczego?."
   ]
  },
  {
   "cell_type": "code",
   "execution_count": null,
   "metadata": {
    "deletable": false,
    "nbgrader": {
     "checksum": "c92c394f9ee9c522e784c600a122ad01",
     "grade": true,
     "grade_id": "sci-zad",
     "locked": false,
     "points": 7,
     "schema_version": 1,
     "solution": true
    }
   },
   "outputs": [],
   "source": [
    "import numpy as np\n",
    "from scipy.optimize import minimize\n",
    "\n",
    "# YOUR CODE HERE\n",
    "raise NotImplementedError()"
   ]
  },
  {
   "cell_type": "markdown",
   "metadata": {
    "deletable": false,
    "editable": false,
    "nbgrader": {
     "checksum": "2cdd2a763b30e93796a14271e2e6588a",
     "grade": false,
     "grade_id": "cell-57a30b66ca1eb842",
     "locked": true,
     "schema_version": 1,
     "solution": false
    }
   },
   "source": [
    "## Zadanie 3:\n",
    "Korzystając z pakietu `matplotlib` narysuj wykres funkcji z zadania 2."
   ]
  },
  {
   "cell_type": "code",
   "execution_count": null,
   "metadata": {
    "deletable": false,
    "nbgrader": {
     "checksum": "b00ec7075d3a1fab83c993b94cd13609",
     "grade": true,
     "grade_id": "cell-a699a5dad7c66ba2",
     "locked": false,
     "points": 5,
     "schema_version": 1,
     "solution": true
    }
   },
   "outputs": [],
   "source": [
    "%matplotlib notebook\n",
    "import numpy as np\n",
    "from mpl_toolkits.mplot3d import axes3d\n",
    "import matplotlib.pyplot as plt\n",
    "\n",
    "# YOUR CODE HERE\n",
    "raise NotImplementedError()"
   ]
  },
  {
   "cell_type": "markdown",
   "metadata": {
    "deletable": false,
    "editable": false,
    "nbgrader": {
     "checksum": "22a892ad8206e6bb4fc40a8269fd2edc",
     "grade": false,
     "grade_id": "cell-299e037cb4bc73bb",
     "locked": true,
     "schema_version": 1,
     "solution": false
    }
   },
   "source": [
    "<div style=\"text-align: right\">&copy; Zakład Inteligencji Obliczeniowej, Instytut Informatyki, Politechnika Krakowska </div>"
   ]
  }
 ],
 "metadata": {
  "kernelspec": {
   "display_name": "Python 3",
   "language": "python",
   "name": "python3"
  },
  "language_info": {
   "codemirror_mode": {
    "name": "ipython",
    "version": 3
   },
   "file_extension": ".py",
   "mimetype": "text/x-python",
   "name": "python",
   "nbconvert_exporter": "python",
   "pygments_lexer": "ipython3",
   "version": "3.6.7"
  }
 },
 "nbformat": 4,
 "nbformat_minor": 2
}
