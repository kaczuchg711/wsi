{
 "cells": [
  {
   "cell_type": "markdown",
   "metadata": {
    "deletable": false,
    "editable": false,
    "nbgrader": {
     "checksum": "2878447ed9128508318a9c8416f4e7a3",
     "grade": false,
     "grade_id": "cell-982e98d0ad3ab544",
     "locked": true,
     "schema_version": 1,
     "solution": false
    }
   },
   "source": [
    "# Wstęp do Sztucznej Inteligencji - rok akademicki 2018/2019\n",
    "\n",
    "Przed rozpoczęciem pracy z notatnikiem zmień jego nazwę zgodnie z wzorem: `{NrAlbumu}_{Nazwisko}_{Imie}_{PoprzedniaNazwa}`.\n",
    "\n",
    "Przed wysłaniem notatnika upewnij się, że rozwiązałeś wszystkie zadania/ćwiczenia, w szczególności, że uzupełniłeś wszystkie pola `YOUR CODE HERE` oraz `YOUR ANSWER HERE`."
   ]
  },
  {
   "cell_type": "markdown",
   "metadata": {
    "deletable": false,
    "editable": false,
    "nbgrader": {
     "checksum": "4c15ed354674f59cbc5069bff1b759a7",
     "grade": false,
     "grade_id": "cell-0b2104075deb75b5",
     "locked": true,
     "schema_version": 1,
     "solution": false
    }
   },
   "source": [
    "## Temat: Algorytmy genetyczne - Lab 3 - Zadania (obowiązkowe)\n",
    "Zapoznaj się z treścią niniejszego notatnika czytając i wykonując go komórka po komórce. Wykonaj napotkane zadania/ćwiczenia."
   ]
  },
  {
   "cell_type": "markdown",
   "metadata": {
    "deletable": false,
    "editable": false,
    "nbgrader": {
     "checksum": "c8079f5618ebcb82017695807f1e7a3e",
     "grade": false,
     "grade_id": "cell-7aafa738c3812049",
     "locked": true,
     "schema_version": 1,
     "solution": false
    }
   },
   "source": [
    "## Zadanie 1 (1pkt.)\n",
    "\n",
    "Zgodnie z instrukcjami prowadzącego, wybierz funkcję testową ze strony: https://www.sfu.ca/~ssurjano/optimization.html z działu \"Many Local Minima\" (z wyjątkiem funkcji nr 6).\n",
    "\n",
    "Zaplementuj ją jako funkcję w Pythonie.\n",
    "\n",
    "Dla wszystkich funkcji przyjmujemy `N=2` tzn. rozważamy ją jako funkcję dwóch zmiennych $f(x_1, x_2)$."
   ]
  },
  {
   "cell_type": "code",
   "execution_count": null,
   "metadata": {
    "deletable": false,
    "nbgrader": {
     "checksum": "edd55ed9bc7373d108c08b0f61dabf56",
     "grade": true,
     "grade_id": "cell-254bb1a4d5b4e8c0",
     "locked": false,
     "points": 1,
     "schema_version": 1,
     "solution": true
    }
   },
   "outputs": [],
   "source": [
    "import math\n",
    "import numpy as np\n",
    "\n",
    "# testowa funkcja celu\n",
    "# x - jednowymiarowa tablica ndarray\n",
    "def obj_func(x):\n",
    "    # YOUR CODE HERE\n",
    "    raise NotImplementedError()"
   ]
  },
  {
   "cell_type": "markdown",
   "metadata": {
    "deletable": false,
    "editable": false,
    "nbgrader": {
     "checksum": "80e220f5e0abd68ebb4a8c2f21cbc13b",
     "grade": false,
     "grade_id": "cell-0b930dd6496684ec",
     "locked": true,
     "schema_version": 1,
     "solution": false
    }
   },
   "source": [
    "## Zadanie 2 (1pkt.)\n",
    "\n",
    "Przygotuj wykres 3D funkcji zaimplementowanej w zadaniu nr 1."
   ]
  },
  {
   "cell_type": "code",
   "execution_count": null,
   "metadata": {
    "deletable": false,
    "nbgrader": {
     "checksum": "49238960e9fd11aab056f2960c79e7ad",
     "grade": true,
     "grade_id": "cell-80f2ac5713affc73",
     "locked": false,
     "points": 1,
     "schema_version": 1,
     "solution": true
    }
   },
   "outputs": [],
   "source": [
    "% matplotlib notebook\n",
    "from mpl_toolkits.mplot3d import axes3d\n",
    "import matplotlib.pyplot as plt\n",
    "\n",
    "# YOUR CODE HERE\n",
    "raise NotImplementedError()"
   ]
  },
  {
   "attachments": {},
   "cell_type": "markdown",
   "metadata": {
    "deletable": false,
    "editable": false,
    "nbgrader": {
     "checksum": "e6cbd755658e92713b6ccb2287071ebe",
     "grade": false,
     "grade_id": "cell-5755bafdd2608d4c",
     "locked": true,
     "schema_version": 1,
     "solution": false
    }
   },
   "source": [
    "## Zadanie 3 (2pkt.)\n",
    "\n",
    "Korzystając z funkcji zaimplementowanych na poprzednich zajęciach, zaimplementuj główną pętlę klasycznego algorytmu genetyczengo.\n",
    "![pag_schemat.png](http://torus.uck.pk.edu.pl/~amarsz/images/pag_schemat.png)\n",
    "\n",
    "Implementacja powinna mieć postać funkcji, która przyjmuje parametry:\n",
    "\n",
    "- `fun` - funkcja, której maksimum ma zostać znalezione\n",
    "- `pop_size` - rozmiar populacji\n",
    "- `pk` - prawdopodobieństwo krzyżowania\n",
    "- `pm` - prawdopodobieństwo mutacji\n",
    "- `generations` - liczba pokoleń \n",
    "- `dx` - dokładność kodowania\n",
    "\n",
    "Funkcja powinna zwracać:\n",
    "- `best_sol` - najlepsze znalezione rozwiązanie (nieważne, w której iteracji; UWAGA! niekoniecznie jest to najlepszy osobnik z ostatniej populacji)\n",
    "- `best_generation` - numer pokolenia, z którego pochodzi najlepsze rozwiązanie\n",
    "- `list_best` - lista z najlepszą oceną osobnika w każdym pokoleniu (najlepsza ocena znaleziona w danym pokoleniu lub wcześniej)\n",
    "- `list_best_generation` - lista z najlepszymi ocenami w każdym pokoleniu (najlepsza ocena z danej populacji)\n",
    "- `list_mean` - lista z wartościami średnimi ocen osobników z każdego pokolenia"
   ]
  },
  {
   "cell_type": "code",
   "execution_count": null,
   "metadata": {
    "deletable": false,
    "nbgrader": {
     "checksum": "f1278451338dfe0b569426e38523528e",
     "grade": true,
     "grade_id": "cell-02e03a5bdf0362d4",
     "locked": false,
     "points": 2,
     "schema_version": 1,
     "solution": true
    }
   },
   "outputs": [],
   "source": [
    "# YOUR CODE HERE\n",
    "raise NotImplementedError()"
   ]
  },
  {
   "cell_type": "markdown",
   "metadata": {
    "deletable": false,
    "editable": false,
    "nbgrader": {
     "checksum": "e89d519a785d155775df135652205a3d",
     "grade": false,
     "grade_id": "cell-337e780623e7cc48",
     "locked": true,
     "schema_version": 1,
     "solution": false
    }
   },
   "source": [
    "## Zadnie 4 (1pkt.)\n",
    "\n",
    "Zaprezentuj działanie algorytmu z przykładowymi wartościami parametrów:\n",
    "\n",
    "- `pop_size`: 60\n",
    "- `pk`: 0.7\n",
    "- `pm`: 0.01\n",
    "- `generations`: 200\n",
    "- `dx`: 1e-10\n",
    "\n",
    "Na wykresach funkcji 3D przedstaw położenie osobników z pierwszej populacji, w połowie ewolucji oraz końcowej populacji. Zaznacz wyraźnie położenie najlepszeg rozwiązania.\n",
    "\n",
    "Na wykresach 2D przedstaw przebieg wartości z list z zebranymi statystykami (listy `list_best`, `list_best_generation`, `list_mean`) w zależności od numeru pokolenia. "
   ]
  },
  {
   "cell_type": "code",
   "execution_count": null,
   "metadata": {
    "deletable": false,
    "nbgrader": {
     "checksum": "1ff880cbfee29ad219a43c04539d2004",
     "grade": true,
     "grade_id": "cell-ca9938b36eb57f01",
     "locked": false,
     "points": 1,
     "schema_version": 1,
     "solution": true
    }
   },
   "outputs": [],
   "source": [
    "# YOUR CODE HERE\n",
    "raise NotImplementedError()"
   ]
  },
  {
   "cell_type": "markdown",
   "metadata": {
    "deletable": false,
    "editable": false,
    "nbgrader": {
     "checksum": "557101b7e0a07b9b041d8c5f38b3249a",
     "grade": false,
     "grade_id": "cell-7528bd9dea58df9a",
     "locked": true,
     "schema_version": 1,
     "solution": false
    }
   },
   "source": [
    "## Zadanie 5 (5pkt.)\n",
    "\n",
    "Zbadaj wpływ parametrów klasycznego algorytmu genetycznego na jego zdolność znalezienia optymalnego rozwiązania. Dla ułatwienia analizy, zmieniając jeden parametr, zachowaj typowe wartości pozostałych.\n",
    "\n",
    "1. Jak działa algorytm z typowymi ustawieniami parametrów (jak w zadaniu 4)? Podaj średnią wartość przystosowania znalezionego rozwiązania po wielokrotnym uruchomieniu AG.\n",
    "2. Czy wydłużenie ewolucji przynosi poprawę czy też następuje \"nasycenie\"? Porównaj zarówno jak dobre rozwiązanie zostało znalezione jak również w której generacji.\n",
    "    - `generations`: kilka różnych wartości z przedziału [100, 10000]\n",
    "3. Czy mutacja jest potrzebna? \n",
    "    - `pm` = 0.0\n",
    "4. Jak działa algorytm bez krzyżowania, z samą mutacją? \n",
    "    - `pk` = 0.0\n",
    "5. Czy lepiej jest dłużej ewoluować mniejszą populację czy krócej większą, jeśli liczba ewaluacji funkcji jest taka sama (np. 2000)?\n",
    "    - porównaj dwa ustawienia: `pop_size`=20, `generations`=100  vs. `pop_size`=100, `generations`=20.\n",
    "\n",
    "UWAGA: Powyższe porównania powinny być wykonane na podstawie uśrednionych wyników co najmniej 10 uruchomień algorytmu z danymi parametrami. Podając wyniki podaj średnią z najlepszych znalezionych rozwiązań oraz odchylenie standardowe oraz numer pokolenia, w którym znaleziono rozwiązanie."
   ]
  },
  {
   "cell_type": "code",
   "execution_count": null,
   "metadata": {},
   "outputs": [],
   "source": [
    "# Miejsce na twój kod\n",
    "\n",
    "#przygotuj wartości parametrów AG\n",
    "exec_num = 10 # lub więcej\n",
    "\n",
    "for i in range(exec_num):\n",
    "    #uruchom AG\n",
    "    #zapamiętaj wyniki\n",
    "\n",
    "#wylicz średnią i odchylenie standardowe"
   ]
  },
  {
   "cell_type": "markdown",
   "metadata": {
    "deletable": false,
    "editable": false,
    "nbgrader": {
     "checksum": "4811f3e7265a1575fe79b1886d113b01",
     "grade": false,
     "grade_id": "cell-9580e5d18f4abdba",
     "locked": true,
     "schema_version": 1,
     "solution": false
    }
   },
   "source": [
    "UMIEŚĆ TWOJE WNIOSKI I KOMENTARZE W KOMÓRCE PONIŻEJ\n",
    "\n",
    "Odnieś się do każdego punktu."
   ]
  },
  {
   "cell_type": "markdown",
   "metadata": {
    "collapsed": true,
    "deletable": false,
    "nbgrader": {
     "checksum": "ec9bd760b9aefd2a0a992d958a8e5764",
     "grade": true,
     "grade_id": "cell-e00e012b7532dad4",
     "locked": false,
     "points": 5,
     "schema_version": 1,
     "solution": true
    }
   },
   "source": [
    "YOUR ANSWER HERE"
   ]
  },
  {
   "cell_type": "markdown",
   "metadata": {
    "deletable": false,
    "editable": false,
    "nbgrader": {
     "checksum": "22a892ad8206e6bb4fc40a8269fd2edc",
     "grade": false,
     "grade_id": "cell-299e037cb4bc73bb",
     "locked": true,
     "schema_version": 1,
     "solution": false
    }
   },
   "source": [
    "<div style=\"text-align: right\">&copy; Zakład Inteligencji Obliczeniowej, Instytut Informatyki, Politechnika Krakowska </div>"
   ]
  }
 ],
 "metadata": {
  "kernelspec": {
   "display_name": "Python 3",
   "language": "python",
   "name": "python3"
  },
  "language_info": {
   "codemirror_mode": {
    "name": "ipython",
    "version": 3
   },
   "file_extension": ".py",
   "mimetype": "text/x-python",
   "name": "python",
   "nbconvert_exporter": "python",
   "pygments_lexer": "ipython3",
   "version": "3.6.8"
  }
 },
 "nbformat": 4,
 "nbformat_minor": 2
}
