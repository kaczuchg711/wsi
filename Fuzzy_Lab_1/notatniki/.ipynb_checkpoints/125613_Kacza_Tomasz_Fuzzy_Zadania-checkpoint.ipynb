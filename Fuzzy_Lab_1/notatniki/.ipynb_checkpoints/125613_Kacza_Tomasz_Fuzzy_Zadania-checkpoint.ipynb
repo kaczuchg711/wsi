{
 "cells": [
  {
   "cell_type": "markdown",
   "metadata": {
    "deletable": false,
    "editable": false,
    "nbgrader": {
     "checksum": "2878447ed9128508318a9c8416f4e7a3",
     "grade": false,
     "grade_id": "cell-982e98d0ad3ab544",
     "locked": true,
     "schema_version": 1,
     "solution": false
    }
   },
   "source": [
    "# Wstęp do Sztucznej Inteligencji - rok akademicki 2018/2019\n",
    "\n",
    "Przed rozpoczęciem pracy z notatnikiem zmień jego nazwę zgodnie z wzorem: `{NrAlbumu}_{Nazwisko}_{Imie}_{PoprzedniaNazwa}`.\n",
    "\n",
    "Przed wysłaniem notatnika upewnij się, że rozwiązałeś wszystkie zadania/ćwiczenia, w szczególności, że uzupełniłeś wszystkie pola `YOUR CODE HERE` oraz `YOUR ANSWER HERE`."
   ]
  },
  {
   "cell_type": "markdown",
   "metadata": {
    "deletable": false,
    "editable": false,
    "nbgrader": {
     "checksum": "2d2c21cc673cb03f864ad943bcfe1426",
     "grade": false,
     "grade_id": "cell-478c34f8539337b5",
     "locked": true,
     "schema_version": 1,
     "solution": false
    }
   },
   "source": [
    "## Zadanie 1 (obowiązkowe, 5pkt)\n",
    "Zaprojektuj system rozmyty typu Mamdani, który będzie oceniał stopień przekonania o możliwości spowodowania wypadku podczas jazdy samochodem.\n",
    "\n",
    "Zmienne wejściowe: \n",
    "\n",
    "- prędkość jazdy (10 − 200km/h ): `mała`, `średnia`, `szybka`, `bardzo szybka` \n",
    "- widoczność (0.05 − 4km): `bardzo słaba`, `średnia`, `dobra`. \n",
    "\n",
    "Wyjście systemu: \n",
    "\n",
    "- stopień przekonania o możliwości spowodowania wypadku (0 − 1): `bardzo małe`, `małe`, `średnie`, `duże`.\n",
    "\n",
    "Zdefiniuj własne kształty dla zbiorów rozmytych, stwórz własne reguły oraz przygotuj wykresy ilustrujące funkcje przynależności zbiorów rozmytych jak również powierzchnię decyzyjną sterownika rozmytego."
   ]
  },
  {
   "cell_type": "markdown",
   "metadata": {
    "deletable": false,
    "editable": false,
    "nbgrader": {
     "checksum": "6eaed0dc7d5fac1ffcffe86858dc4bd3",
     "grade": false,
     "grade_id": "cell-4ec086b596cd1e8b",
     "locked": true,
     "schema_version": 1,
     "solution": false
    }
   },
   "source": [
    "#### TWÓJ PROGRAM:"
   ]
  },
  {
   "cell_type": "code",
   "execution_count": null,
   "metadata": {
    "deletable": false,
    "nbgrader": {
     "checksum": "13859f659e7e66479193ed39511179c9",
     "grade": true,
     "grade_id": "cell-0424ca2047fe3434",
     "locked": false,
     "points": 5,
     "schema_version": 1,
     "solution": true
    }
   },
   "outputs": [],
   "source": [
    "# YOUR CODE HERE\n",
    "raise NotImplementedError()"
   ]
  },
  {
   "cell_type": "markdown",
   "metadata": {
    "deletable": false,
    "editable": false,
    "nbgrader": {
     "checksum": "a0799e04965c9a696c49e64240eae6dc",
     "grade": false,
     "grade_id": "cell-356b888b8d31f782",
     "locked": true,
     "schema_version": 1,
     "solution": false
    }
   },
   "source": [
    "## Zadanie 2 (obowiązkowe, 5pkt)\n",
    "Zaprojektuj system rozmyty typu Takagi-Sugeno, który będzie prognozował cenę akcji na jeden dzień do przodu.\n",
    "\n",
    "Zmienne wejściowe: \n",
    "\n",
    "- cena akcji wczoraj (1 − 20zł): `niska`, `średnia`, `wysoka`, \n",
    "\n",
    "- cena akcji dziś (1 − 20zł): `niska`, `średnia`, `wysoka`. \n",
    "\n",
    "Wyjście systemu: \n",
    "\n",
    "- cena akcji jutro dana równaniem regresji: $\\alpha\\cdot x + \\beta\\cdot y + \\gamma$\n",
    "\n",
    "Reguły postaci:\n",
    "\n",
    "- Jeśli cena akcji wczoraj była $A_i$ i cena akcji dziś jest $B_i$ to cena akcji jutro będzie $\\alpha_k\\cdot x + \\beta_k\\cdot y + \\gamma_k$,\n",
    "\n",
    "gdzie:\n",
    "\n",
    "- $x$ to cena akcji wczoraj (ostra wartość)\n",
    "\n",
    "- $y$ to cena akcji dziś (ostra wartość)\n",
    "\n",
    "- $A_i, B_i$ to zbiory rozmyte odpowiednio dla ceny akcji wczoraj i dziś\n",
    "\n",
    "- $\\alpha_k, \\beta_k, \\gamma_k$ - współczynniki w równaniu regresji (liczby rzeczywiste)\n",
    "\n",
    "- $k$ - numer reguły\n",
    "\n",
    "Zdefiniuj własne kształty dla zbiorów rozmytych, stwórz własne reguły (dobór współczynników regresji) oraz przygotuj wykresy ilustrujące funkcje przynależności zbiorów rozmytych jak również powierzchnię decyzyjną sterownika rozmytego."
   ]
  },
  {
   "cell_type": "markdown",
   "metadata": {
    "deletable": false,
    "editable": false,
    "nbgrader": {
     "checksum": "cdfc3de83b797e403e83c034ad182882",
     "grade": false,
     "grade_id": "cell-ce4dadf339a32e74",
     "locked": true,
     "schema_version": 1,
     "solution": false
    }
   },
   "source": [
    "#### TWÓJ PROGRAM:"
   ]
  },
  {
   "cell_type": "code",
   "execution_count": null,
   "metadata": {
    "deletable": false,
    "nbgrader": {
     "checksum": "4604309985728554cb3f7f798d7b73f9",
     "grade": true,
     "grade_id": "cell-1f72c3bddb8013ae",
     "locked": false,
     "points": 5,
     "schema_version": 1,
     "solution": true
    }
   },
   "outputs": [],
   "source": [
    "# YOUR CODE HERE\n",
    "raise NotImplementedError()"
   ]
  },
  {
   "cell_type": "markdown",
   "metadata": {
    "deletable": false,
    "editable": false,
    "nbgrader": {
     "checksum": "22a892ad8206e6bb4fc40a8269fd2edc",
     "grade": false,
     "grade_id": "cell-299e037cb4bc73bb",
     "locked": true,
     "schema_version": 1,
     "solution": false
    }
   },
   "source": [
    "<div style=\"text-align: right\">&copy; Zakład Inteligencji Obliczeniowej, Instytut Informatyki, Politechnika Krakowska </div>"
   ]
  }
 ],
 "metadata": {
  "kernelspec": {
   "display_name": "Python 3",
   "language": "python",
   "name": "python3"
  },
  "language_info": {
   "codemirror_mode": {
    "name": "ipython",
    "version": 3
   },
   "file_extension": ".py",
   "mimetype": "text/x-python",
   "name": "python",
   "nbconvert_exporter": "python",
   "pygments_lexer": "ipython3",
   "version": "3.6.7"
  }
 },
 "nbformat": 4,
 "nbformat_minor": 2
}
