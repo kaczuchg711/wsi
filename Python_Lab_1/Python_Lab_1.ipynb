{
 "cells": [
  {
   "cell_type": "markdown",
   "metadata": {
    "deletable": false,
    "editable": false,
    "nbgrader": {
     "checksum": "2878447ed9128508318a9c8416f4e7a3",
     "grade": false,
     "grade_id": "cell-982e98d0ad3ab544",
     "locked": true,
     "schema_version": 1,
     "solution": false
    }
   },
   "source": [
    "# Wstęp do Sztucznej Inteligencji - rok akademicki 2018/2019\n",
    "\n",
    "Przed rozpoczęciem pracy z notatnikiem zmień jego nazwę zgodnie z wzorem: `{NrAlbumu}_{Nazwisko}_{Imie}_{PoprzedniaNazwa}`.\n",
    "\n",
    "Przed wysłaniem notatnika upewnij się, że rozwiązałeś wszystkie zadania/ćwiczenia, w szczególności, że uzupełniłeś wszystkie pola `YOUR CODE HERE` oraz `YOUR ANSWER HERE`."
   ]
  },
  {
   "cell_type": "markdown",
   "metadata": {
    "deletable": false,
    "editable": false,
    "nbgrader": {
     "checksum": "0f45c6a921cb32baaec443e9f9fb9973",
     "grade": false,
     "grade_id": "cell-7f6e30d09c33dbe5",
     "locked": true,
     "schema_version": 1,
     "solution": false
    }
   },
   "source": [
    "## Temat: Wprowadzenie do języka Python cz. I\n",
    "Zapoznaj się z treścią niniejszego notatnika czytając i wykonując go komórka po komórce. Wykonaj napotkane zadania/ćwiczenia.\n",
    "\n",
    "Dokumentacja Python 3 (https://docs.python.org/3/).\n",
    "\n",
    "### Komentarze"
   ]
  },
  {
   "cell_type": "code",
   "execution_count": null,
   "metadata": {},
   "outputs": [],
   "source": [
    "# to jest komentarz jednolinijkowy, interpreter pomija linie zaczynające się od '#'\n",
    "# Wykonaj komórkę (Shift+Enter) i zobacz że nic się nie wykona"
   ]
  },
  {
   "cell_type": "code",
   "execution_count": null,
   "metadata": {},
   "outputs": [],
   "source": [
    "\"\"\"\n",
    "To jest komentarz wielolinijkowy, wszystko pomiędzy trzema znakami cudzysłowia (alternatywnie trzema apostrofami)\n",
    "traktowane jest jako łańcuch znaków. Jeśli nie zostanie on przypisany do żadnej zmiennej to będzie traktowany jako \n",
    "komentarz. Często taki sposób wykorzystywany jest do dokumentowania kodu.\n",
    "\"\"\""
   ]
  },
  {
   "cell_type": "markdown",
   "metadata": {
    "deletable": false,
    "editable": false,
    "nbgrader": {
     "checksum": "160a16d2328095e83efa18b8faa9b787",
     "grade": false,
     "grade_id": "cell-73ffa2445c019781",
     "locked": true,
     "schema_version": 1,
     "solution": false
    }
   },
   "source": [
    "### Funkcja `print()`\n",
    "Funkcja `print()` przyjmuje dowolną liczbę argumentów, dowolnego typu (no nie do końca dowolnego) i ma też parę parametrów/opcji, ale o tym innym razem. \n",
    "\n",
    "Funkcja `print` jest tak zwaną funkcją wbudowaną, inne dostępne i czasami przydatne funkcje wbudowane https://docs.python.org/3/library/functions.html."
   ]
  },
  {
   "cell_type": "code",
   "execution_count": null,
   "metadata": {},
   "outputs": [],
   "source": [
    "print('Hello')\n",
    "print('Hello',1,3,[1,3],2+4j)\n",
    "print('Hello',1,3,[1,3],2+4j, sep=';',end=':')"
   ]
  },
  {
   "cell_type": "markdown",
   "metadata": {
    "deletable": false,
    "editable": false,
    "nbgrader": {
     "checksum": "487ced1e48153b5e66bb308d08937cd7",
     "grade": false,
     "grade_id": "cell-587a8c267163be7b",
     "locked": true,
     "schema_version": 1,
     "solution": false
    }
   },
   "source": [
    "### Podstawowe typy danych\n",
    "Python jest językiem dynamicznie typowanym, co oznacza, że nie ma potrzeby jawnego określania typu danej zmiennej, interpreter zrobi to za nas sam. Co więcej, Python jest językiem w pełni obiektowy, w którym również zmienne są obiektami.\n",
    "#### Typy liczbowe: `int`, `float`, `complex`."
   ]
  },
  {
   "cell_type": "code",
   "execution_count": null,
   "metadata": {},
   "outputs": [],
   "source": [
    "# liczba całkowita: int\n",
    "a = 2    # przypisujemy zmiennej 'a' liczbę całkowitą 2\n",
    "print(a) # wydruk zmiennej a\n",
    "type(a)  # wbudowana funkcja type() zwraca typ danego obiektu"
   ]
  },
  {
   "cell_type": "markdown",
   "metadata": {
    "deletable": false,
    "editable": false,
    "nbgrader": {
     "checksum": "2cd8b545762b035fe6a1a7c9775debd3",
     "grade": false,
     "grade_id": "cell-8c4c9b015cff0a21",
     "locked": true,
     "schema_version": 1,
     "solution": false
    }
   },
   "source": [
    "Przykładowe metody obiektu `int`. Wciskając po napisaniu kropki `Tab` wyświetlone zostaną dostępne pola i metody danego obiektu."
   ]
  },
  {
   "cell_type": "code",
   "execution_count": null,
   "metadata": {},
   "outputs": [],
   "source": [
    "a.bit_length()"
   ]
  },
  {
   "cell_type": "code",
   "execution_count": null,
   "metadata": {},
   "outputs": [],
   "source": [
    "# liczba zmiennoprzecinkowa: float\n",
    "b = 2.5\n",
    "print(b)\n",
    "type(b)"
   ]
  },
  {
   "cell_type": "code",
   "execution_count": null,
   "metadata": {},
   "outputs": [],
   "source": [
    "b.is_integer()"
   ]
  },
  {
   "cell_type": "code",
   "execution_count": null,
   "metadata": {},
   "outputs": [],
   "source": [
    "# liczba zespolona: complex\n",
    "z = 2+4j # j jednostka urojona, piszemy z prawej strony bez spacji\n",
    "print(z)\n",
    "type(z)"
   ]
  },
  {
   "cell_type": "code",
   "execution_count": null,
   "metadata": {},
   "outputs": [],
   "source": [
    "z.imag"
   ]
  },
  {
   "cell_type": "markdown",
   "metadata": {
    "deletable": false,
    "editable": false,
    "nbgrader": {
     "checksum": "41c3b3aff2e4b0ca4598c04250daa876",
     "grade": false,
     "grade_id": "cell-fcb5a3d35e726eb9",
     "locked": true,
     "schema_version": 1,
     "solution": false
    }
   },
   "source": [
    "#### Typ `str` (łańcuch znaków).\n",
    "Domyślnym kodowaniem znaków w Python 3 jest `utf8`."
   ]
  },
  {
   "cell_type": "code",
   "execution_count": null,
   "metadata": {},
   "outputs": [],
   "source": [
    "# tekst (string) definiujemy w apostrofach lub cudzysłowach \n",
    "napis1 = 'wstęp do sztucznej inteligencji,'\n",
    "napis2 = \"wstęp do sztucznej inteligencji.\"\n",
    "print(napis1, napis2)\n",
    "print(type(napis1))\n",
    "type(napis2)"
   ]
  },
  {
   "cell_type": "markdown",
   "metadata": {
    "deletable": false,
    "editable": false,
    "nbgrader": {
     "checksum": "dc529e9c19d96a74857ce03a2c2a5b8d",
     "grade": false,
     "grade_id": "cell-eda7c533213dbf51",
     "locked": true,
     "schema_version": 1,
     "solution": false
    }
   },
   "source": [
    "Domyślnie rozpoznawane są również znaki specjalne takie jak `\\n`, `\\t` itp. Aby potraktować znaki specjalne jako zwykłe znaki trzeba dodać jeszcze jeden znak `\\` lub dodać przed apostrofem `r`."
   ]
  },
  {
   "cell_type": "code",
   "execution_count": null,
   "metadata": {},
   "outputs": [],
   "source": [
    "print('wstęp do\\tsztucznej\\ninteligencji')"
   ]
  },
  {
   "cell_type": "code",
   "execution_count": null,
   "metadata": {},
   "outputs": [],
   "source": [
    "print('wstęp do\\\\tsztucznej\\\\ninteligencji')\n",
    "print(r'wstęp do\\tsztucznej\\ninteligencji')"
   ]
  },
  {
   "cell_type": "markdown",
   "metadata": {
    "deletable": false,
    "editable": false,
    "nbgrader": {
     "checksum": "06a3ccc558a31b78ad0ea2c99be13dad",
     "grade": false,
     "grade_id": "cell-d567c99d0a38760d",
     "locked": true,
     "schema_version": 1,
     "solution": false
    }
   },
   "source": [
    "Wbudowana funkcja `len` zwracająca długość łańcucha znaków."
   ]
  },
  {
   "cell_type": "code",
   "execution_count": null,
   "metadata": {},
   "outputs": [],
   "source": [
    "print(napis1)\n",
    "len(napis1)"
   ]
  },
  {
   "cell_type": "markdown",
   "metadata": {
    "deletable": false,
    "editable": false,
    "nbgrader": {
     "checksum": "25c2451ca4948f9a0f9d843209263f28",
     "grade": false,
     "grade_id": "cell-dd91df9cd613a615",
     "locked": true,
     "schema_version": 1,
     "solution": false
    }
   },
   "source": [
    "Z łańcucha znaków możemy wybierać dowolny element za pomocą metody `__getitem__` lub prościej za pomocą nawiasów `[]`."
   ]
  },
  {
   "cell_type": "code",
   "execution_count": null,
   "metadata": {},
   "outputs": [],
   "source": [
    "s = 'napisssss'\n",
    "print(s.__getitem__(1))  #numeracja elementów od 0\n",
    "print(s[1])"
   ]
  },
  {
   "cell_type": "markdown",
   "metadata": {
    "deletable": false,
    "editable": false,
    "nbgrader": {
     "checksum": "59abc955ced160e61ffbb351fd3ffaa5",
     "grade": false,
     "grade_id": "cell-23e7ee58f301e743",
     "locked": true,
     "schema_version": 1,
     "solution": false
    }
   },
   "source": [
    "Obiekt klasy `str` jest obiektem niemodyfikowalnym, tzn. nie można przypisać nowego znaku na danej pozycji."
   ]
  },
  {
   "cell_type": "code",
   "execution_count": null,
   "metadata": {},
   "outputs": [],
   "source": [
    "s[2] = 'g'"
   ]
  },
  {
   "cell_type": "markdown",
   "metadata": {
    "deletable": false,
    "editable": false,
    "nbgrader": {
     "checksum": "165ca4029fa78686f349ca4c780f3721",
     "grade": false,
     "grade_id": "cell-daa0bbdfd58c174e",
     "locked": true,
     "schema_version": 1,
     "solution": false
    }
   },
   "source": [
    "Nie można również podać indeksu większego niż `ilość znaków - 1`."
   ]
  },
  {
   "cell_type": "code",
   "execution_count": null,
   "metadata": {},
   "outputs": [],
   "source": [
    "s[100]"
   ]
  },
  {
   "cell_type": "markdown",
   "metadata": {
    "deletable": false,
    "editable": false,
    "nbgrader": {
     "checksum": "75afe748ce36e4ce5790f492995edc81",
     "grade": false,
     "grade_id": "cell-c5db5e4e2fe83276",
     "locked": true,
     "schema_version": 1,
     "solution": false
    }
   },
   "source": [
    "#### Slicing (\"plasterkowanie\")."
   ]
  },
  {
   "cell_type": "code",
   "execution_count": null,
   "metadata": {},
   "outputs": [],
   "source": [
    "# wybieranie fragmentu \n",
    "print(s[1:6])\n",
    "# wybieranie znaków z krokiem\n",
    "print(s[1:6:2])\n",
    "# ostatnie element ciągu znaków\n",
    "print(s[-1])\n",
    "# od tyłu\n",
    "print(s[-4:-2])"
   ]
  },
  {
   "cell_type": "markdown",
   "metadata": {
    "deletable": false,
    "editable": false,
    "nbgrader": {
     "checksum": "aa34ef9dcc8eb329bfe5b74daad42722",
     "grade": false,
     "grade_id": "cell-3f65f468c505d5ca",
     "locked": true,
     "schema_version": 1,
     "solution": false
    }
   },
   "source": [
    "#### Typ `tuple` (krotka)\n",
    "Krotka to zestawienie kilku obiektów w jeden obiekt. Mogą to być obiekty różnych typów."
   ]
  },
  {
   "cell_type": "code",
   "execution_count": null,
   "metadata": {},
   "outputs": [],
   "source": [
    "a = (1, 2, 3, 4)\n",
    "b = (1, 3.5, 'a', a)\n",
    "print(a)\n",
    "print(b)\n",
    "print(len(a))\n",
    "type(a)"
   ]
  },
  {
   "cell_type": "markdown",
   "metadata": {
    "deletable": false,
    "editable": false,
    "nbgrader": {
     "checksum": "d73b6e80a4eb3343447107a6c075c95d",
     "grade": false,
     "grade_id": "cell-bbeb35b235c7629e",
     "locked": true,
     "schema_version": 1,
     "solution": false
    }
   },
   "source": [
    "Elementy krotki można rozpakować do pojedynczych zmiennych. Bardzo przydatne przy definiowaniu funkcji zwracających wiele obiektów."
   ]
  },
  {
   "cell_type": "code",
   "execution_count": null,
   "metadata": {},
   "outputs": [],
   "source": [
    "# rozpakowywanie krotki\n",
    "a,b,c = (1, 'a', 'abc')\n",
    "d = (1, 'a', 'abc')\n",
    "print(a)\n",
    "print(b)\n",
    "print(c)\n",
    "print(d)"
   ]
  },
  {
   "cell_type": "markdown",
   "metadata": {
    "deletable": false,
    "editable": false,
    "nbgrader": {
     "checksum": "efe37577b2af2f0abea4eff7a74c2535",
     "grade": false,
     "grade_id": "cell-d0920720f942018c",
     "locked": true,
     "schema_version": 1,
     "solution": false
    }
   },
   "source": [
    "Podobnie jak łańcuch znaków, krotka jest obiektem niemodyfikowalnym."
   ]
  },
  {
   "cell_type": "code",
   "execution_count": null,
   "metadata": {},
   "outputs": [],
   "source": [
    "k = (1, 'a')\n",
    "print(k[0])\n",
    "k[0]='b'"
   ]
  },
  {
   "cell_type": "markdown",
   "metadata": {
    "deletable": false,
    "editable": false,
    "nbgrader": {
     "checksum": "976b542aead7d396964e4055843e2b0e",
     "grade": false,
     "grade_id": "cell-ec4bb372f694bea8",
     "locked": true,
     "schema_version": 1,
     "solution": false
    }
   },
   "source": [
    "#### Typ `list` (lista)\n",
    "Lista może zawierać obiekty dowolnych typów i w odróżnieniu do krotki jej elementy można modyfikować."
   ]
  },
  {
   "cell_type": "code",
   "execution_count": null,
   "metadata": {},
   "outputs": [],
   "source": [
    "l = [1, 2, '3', [1, 3]]\n",
    "print(l)\n",
    "print(len(l))\n",
    "type(l)"
   ]
  },
  {
   "cell_type": "code",
   "execution_count": null,
   "metadata": {},
   "outputs": [],
   "source": [
    "print(l)\n",
    "print(l[0])\n",
    "l[0] = 'nowe_0'\n",
    "print(l)"
   ]
  },
  {
   "cell_type": "markdown",
   "metadata": {
    "deletable": false,
    "editable": false,
    "nbgrader": {
     "checksum": "12fdb80e33c970ee24418f5850b01efd",
     "grade": false,
     "grade_id": "cell-8ae7ff9ca9a72eca",
     "locked": true,
     "schema_version": 1,
     "solution": false
    }
   },
   "source": [
    "__Uwaga__: Kopiowanie list jak również wszystkich innych obiektów w języku Python odbywa się poprzez referencje tzn. nie tworzony jest nowy obiekt a jedynie nadawana jest tak jakby nowa etykieta to tego samego obiektu."
   ]
  },
  {
   "cell_type": "code",
   "execution_count": null,
   "metadata": {},
   "outputs": [],
   "source": [
    "l = [1,2,4]\n",
    "p = l\n",
    "print(p,l)"
   ]
  },
  {
   "cell_type": "code",
   "execution_count": null,
   "metadata": {},
   "outputs": [],
   "source": [
    "p[1] = -5\n",
    "print(p,l)"
   ]
  },
  {
   "cell_type": "markdown",
   "metadata": {
    "deletable": false,
    "editable": false,
    "nbgrader": {
     "checksum": "f75e2c6cebfe902e50a755c269bd2af7",
     "grade": false,
     "grade_id": "cell-8287d3a88b549fff",
     "locked": true,
     "schema_version": 1,
     "solution": false
    }
   },
   "source": [
    "Aby skopiować tworząc nowy obiekt należy użyć metody `copy()`."
   ]
  },
  {
   "cell_type": "code",
   "execution_count": null,
   "metadata": {},
   "outputs": [],
   "source": [
    "l = [1,2,4]\n",
    "p = l.copy()\n",
    "print(p,l)\n",
    "p[1]= 100\n",
    "print(p,l)"
   ]
  },
  {
   "cell_type": "markdown",
   "metadata": {
    "deletable": false,
    "editable": false,
    "nbgrader": {
     "checksum": "1403e07c07f46a34d1a26caaae49cdea",
     "grade": false,
     "grade_id": "cell-6b092cd550cbaa98",
     "locked": true,
     "schema_version": 1,
     "solution": false
    }
   },
   "source": [
    "Zamiast `copy` można alternatywnie użyć `[:]` co oznacza kopiowanie element po elemencie."
   ]
  },
  {
   "cell_type": "code",
   "execution_count": null,
   "metadata": {},
   "outputs": [],
   "source": [
    "l = [1,2,3]\n",
    "p[:] = l[:]\n",
    "print(p,l)\n",
    "p[0] = -100\n",
    "print(p,l)"
   ]
  },
  {
   "cell_type": "markdown",
   "metadata": {
    "deletable": false,
    "editable": false,
    "nbgrader": {
     "checksum": "375ffa993faa03f1cf727476702d31ec",
     "grade": false,
     "grade_id": "cell-b1f61777755af4b3",
     "locked": true,
     "schema_version": 1,
     "solution": false
    }
   },
   "source": [
    "Dodawanie nowych obiektów do listy (rozszerzanie)."
   ]
  },
  {
   "cell_type": "code",
   "execution_count": null,
   "metadata": {},
   "outputs": [],
   "source": [
    "p = [1,2,3]\n",
    "# dodawanie na końcu\n",
    "p.append('nowy_k')\n",
    "p"
   ]
  },
  {
   "cell_type": "code",
   "execution_count": null,
   "metadata": {},
   "outputs": [],
   "source": [
    "# dodawanie w konkretnym miejscu\n",
    "p.insert(1,'nowy_i') # podajemy miejsce wstawienia\n",
    "p"
   ]
  },
  {
   "cell_type": "code",
   "execution_count": null,
   "metadata": {},
   "outputs": [],
   "source": [
    "# rozrzerzanie o więcej niż jeden element\n",
    "p.extend([10,32])\n",
    "p"
   ]
  },
  {
   "cell_type": "markdown",
   "metadata": {
    "deletable": false,
    "editable": false,
    "nbgrader": {
     "checksum": "f47f7c4d959e068c91f5c0dbf6c1f677",
     "grade": false,
     "grade_id": "cell-0b87bc163ea25d17",
     "locked": true,
     "schema_version": 1,
     "solution": false
    }
   },
   "source": [
    "#### Typ `set` (zbiór)."
   ]
  },
  {
   "cell_type": "code",
   "execution_count": null,
   "metadata": {},
   "outputs": [],
   "source": [
    "z = {1,2,3}\n",
    "type(z)"
   ]
  },
  {
   "cell_type": "markdown",
   "metadata": {
    "deletable": false,
    "editable": false,
    "nbgrader": {
     "checksum": "d833f6fbba276edd37820db6f48f7c9f",
     "grade": false,
     "grade_id": "cell-3fe5dbc1f560d96f",
     "locked": true,
     "schema_version": 1,
     "solution": false
    }
   },
   "source": [
    "Tworzenie zbioru z listy (unikalne wartości)."
   ]
  },
  {
   "cell_type": "code",
   "execution_count": null,
   "metadata": {},
   "outputs": [],
   "source": [
    "p = [1,2,3,1,3,5,1]\n",
    "print(p)\n",
    "sp = set(p)\n",
    "sp"
   ]
  },
  {
   "cell_type": "markdown",
   "metadata": {
    "deletable": false,
    "editable": false,
    "nbgrader": {
     "checksum": "411429f866c4b611cc27ecac609face8",
     "grade": false,
     "grade_id": "cell-03fc172c51245886",
     "locked": true,
     "schema_version": 1,
     "solution": false
    }
   },
   "source": [
    "#### Typ `dic` (Słownik, {klucz:wartość})."
   ]
  },
  {
   "cell_type": "code",
   "execution_count": null,
   "metadata": {},
   "outputs": [],
   "source": [
    "d = {'Nr': 1234, 'Imię': 'Jack', 'Nazwisko': 'Sparrow',}\n",
    "print(d)\n",
    "type(d)"
   ]
  },
  {
   "cell_type": "code",
   "execution_count": null,
   "metadata": {},
   "outputs": [],
   "source": [
    "# do elementów słownika odwołujemy się poprzez klucze\n",
    "print(d['Nr'])\n",
    "print(d['Imię'])\n",
    "print(d['Nazwisko'])"
   ]
  },
  {
   "cell_type": "code",
   "execution_count": null,
   "metadata": {},
   "outputs": [],
   "source": [
    "# klucze w słowniku\n",
    "d.keys()"
   ]
  },
  {
   "cell_type": "code",
   "execution_count": null,
   "metadata": {},
   "outputs": [],
   "source": [
    "# dodawanie nowego pola w słowniku\n",
    "d['Ocena'] = 2.0\n",
    "d"
   ]
  },
  {
   "cell_type": "markdown",
   "metadata": {
    "deletable": false,
    "editable": false,
    "nbgrader": {
     "checksum": "e431b4ef2b9e14c18d3216b24c4a3b65",
     "grade": false,
     "grade_id": "cell-b91526f6cd20e549",
     "locked": true,
     "schema_version": 1,
     "solution": false
    }
   },
   "source": [
    "#### Typ `bool` (prawda, fałsz)."
   ]
  },
  {
   "cell_type": "code",
   "execution_count": null,
   "metadata": {},
   "outputs": [],
   "source": [
    "prawda = True\n",
    "falsz = False\n",
    "type(prawda)"
   ]
  },
  {
   "cell_type": "markdown",
   "metadata": {
    "deletable": false,
    "editable": false,
    "nbgrader": {
     "checksum": "ae6b5612f763ca38dbd826fb9b1f5be6",
     "grade": false,
     "grade_id": "cell-1a4affad785c2c5f",
     "locked": true,
     "schema_version": 1,
     "solution": false
    }
   },
   "source": [
    "### Operatory arytmetyczne (`+, -, *, /, //, **, %`)"
   ]
  },
  {
   "cell_type": "code",
   "execution_count": null,
   "metadata": {},
   "outputs": [],
   "source": [
    "# dwie liczby typu int\n",
    "a = 2\n",
    "b = 5\n",
    "print(a+b)\n",
    "print(a-b)\n",
    "print(a*b)\n",
    "print(a/b) # rzutuje na float\n",
    "print(a//b) # int\n",
    "print(a**b) # potęgowanie\n",
    "print(a%b) # reszta z dzielenia, modulo"
   ]
  },
  {
   "cell_type": "markdown",
   "metadata": {
    "deletable": false,
    "editable": false,
    "nbgrader": {
     "checksum": "ad56cebee7be204efa3c0cebd0ee0173",
     "grade": false,
     "grade_id": "cell-8ecceb5c4654963b",
     "locked": true,
     "schema_version": 1,
     "solution": false
    }
   },
   "source": [
    "Operatory arytmetyczne definiowane są również dla prawie wszystkich typów danych nie tylko liczbowych. Co ważne, Python jest silnie typowany co oznacza m.in., że nie można dowolnie łączyć typów w operacjach arytmetycznych."
   ]
  },
  {
   "cell_type": "code",
   "execution_count": null,
   "metadata": {},
   "outputs": [],
   "source": [
    "2.5 + 'a'"
   ]
  },
  {
   "cell_type": "markdown",
   "metadata": {
    "deletable": false,
    "editable": false,
    "nbgrader": {
     "checksum": "eebc005462b080e1d302caac8846271d",
     "grade": false,
     "grade_id": "cell-f7d3f298d0733cb7",
     "locked": true,
     "schema_version": 1,
     "solution": false
    }
   },
   "source": [
    "Jednak dla niektórych typów działa tak zwana konwersja niejawna (rzutowanie na obiekt klasy \"nadrzędnej\")"
   ]
  },
  {
   "cell_type": "code",
   "execution_count": null,
   "metadata": {},
   "outputs": [],
   "source": [
    "a = 2.5 + (2-3j)\n",
    "print(a)\n",
    "type(a)"
   ]
  },
  {
   "cell_type": "markdown",
   "metadata": {
    "deletable": false,
    "editable": false,
    "nbgrader": {
     "checksum": "d82049de4988823b7e069cf22ce29c83",
     "grade": false,
     "grade_id": "cell-016551ec102a904e",
     "locked": true,
     "schema_version": 1,
     "solution": false
    }
   },
   "source": [
    "### Biblioteka matematyczna `math`.\n",
    "W Python wbudowane są niektóre podstawowe finkcje matematyczne, taki jak `abs`, `min`, `max`, `sum`, `pow`. Inne znaleźć można w bibliotece (module) `math`. Import bibliotek (modułów, pakietów) w języku Python dokonuje się za pomocą słowa kluczowego `import`."
   ]
  },
  {
   "cell_type": "code",
   "execution_count": null,
   "metadata": {},
   "outputs": [],
   "source": [
    "print(min(1,2,-4,2))\n",
    "print(max(2, 1.4, 3, 5.5))\n",
    "abs(-4)"
   ]
  },
  {
   "cell_type": "code",
   "execution_count": null,
   "metadata": {},
   "outputs": [],
   "source": [
    "# aby wczytać pakiet math wpisujemy\n",
    "import math\n",
    "# możemy zaimportowac tylko wybrane funkcje\n",
    "from math import sin, cos"
   ]
  },
  {
   "cell_type": "code",
   "execution_count": null,
   "metadata": {},
   "outputs": [],
   "source": [
    "math.log(1)"
   ]
  },
  {
   "cell_type": "code",
   "execution_count": null,
   "metadata": {},
   "outputs": [],
   "source": [
    "sin(math.radians(90))"
   ]
  },
  {
   "cell_type": "markdown",
   "metadata": {
    "deletable": false,
    "editable": false,
    "nbgrader": {
     "checksum": "a984b2878ed2b50915f5ec5f1986ca41",
     "grade": false,
     "grade_id": "cell-39399e23796475e9",
     "locked": true,
     "schema_version": 1,
     "solution": false
    }
   },
   "source": [
    "## Zadanie 1:\n",
    "Sprawdź i opisz działanie operatorów arytmetycznych dla typu `list`."
   ]
  },
  {
   "cell_type": "markdown",
   "metadata": {
    "deletable": false,
    "nbgrader": {
     "checksum": "7ab77b2f8b06731f37099907425943a3",
     "grade": true,
     "grade_id": "artytmetyka-list",
     "locked": false,
     "points": 5,
     "schema_version": 1,
     "solution": true
    }
   },
   "source": [
    "YOUR ANSWER HERE"
   ]
  },
  {
   "cell_type": "markdown",
   "metadata": {
    "deletable": false,
    "editable": false,
    "nbgrader": {
     "checksum": "501b9f6c18dee1c48707b5a03467c634",
     "grade": false,
     "grade_id": "cell-56a9ba745a61d389",
     "locked": true,
     "schema_version": 1,
     "solution": false
    }
   },
   "source": [
    "## Zadanie 2:\n",
    "Sprawdź i opisz działanie operatorów arytmetycznych dla typu `str`."
   ]
  },
  {
   "cell_type": "markdown",
   "metadata": {
    "deletable": false,
    "nbgrader": {
     "checksum": "061191ddccef423a02b223a8379e138d",
     "grade": true,
     "grade_id": "arytmetyka-str",
     "locked": false,
     "points": 5,
     "schema_version": 1,
     "solution": true
    }
   },
   "source": [
    "YOUR ANSWER HERE"
   ]
  },
  {
   "cell_type": "markdown",
   "metadata": {
    "deletable": false,
    "editable": false,
    "nbgrader": {
     "checksum": "c4f845c67d7f04041625976d11bc6bfe",
     "grade": false,
     "grade_id": "cell-86d87d4bd4ef4b8d",
     "locked": true,
     "schema_version": 1,
     "solution": false
    }
   },
   "source": [
    "### Operatory logiczne:\n",
    "Operatory porównania: `==`, `>`, `>=`, `<`, `<=`, `!=`.\n",
    "\n",
    "Spójniki logiczne: `and`, `or`.\n",
    "\n",
    "Zaprzeczenie: `not`.\n",
    "\n",
    "Zawsze zwracany jest typ `bool` (True, False)."
   ]
  },
  {
   "cell_type": "code",
   "execution_count": null,
   "metadata": {},
   "outputs": [],
   "source": [
    "print(2==3)\n",
    "print(2!=3)\n",
    "print(2<3)\n",
    "a = 4.5\n",
    "b = 4\n",
    "print(not 4<=5)\n",
    "print(a>b and a<b)\n",
    "print(a>b and a<b or 3>2)  # (a>b and a<b) or 3>2"
   ]
  },
  {
   "cell_type": "markdown",
   "metadata": {
    "deletable": false,
    "editable": false,
    "nbgrader": {
     "checksum": "2827a5c08f56a9fb1fc142f080f44b97",
     "grade": false,
     "grade_id": "cell-1a2553eea2bb61fe",
     "locked": true,
     "schema_version": 1,
     "solution": false
    }
   },
   "source": [
    "Porównywać można dowolne obiekty (dla których zdefiniowane są odpowiednie operatory) np. listy."
   ]
  },
  {
   "cell_type": "code",
   "execution_count": null,
   "metadata": {},
   "outputs": [],
   "source": [
    "print([1,3,4]==[3,6,7])\n",
    "print([1,3,4]==[1,3,4])\n",
    "print([1,3,4]<[3,6,7])\n",
    "print([1,3,4]<[1,1,7]) #tzw. relacja słownikowa, sprawdza pierwszy element, jezeli równe to dopiero nastepny"
   ]
  },
  {
   "cell_type": "markdown",
   "metadata": {
    "deletable": false,
    "editable": false,
    "nbgrader": {
     "checksum": "c36d9669b965da7e13db8fe67c89d12a",
     "grade": false,
     "grade_id": "cell-97e6dcb0f453b0b1",
     "locked": true,
     "schema_version": 1,
     "solution": false
    }
   },
   "source": [
    "#### Operatory `in`, `not in` oraz `is`, `is not`."
   ]
  },
  {
   "cell_type": "code",
   "execution_count": null,
   "metadata": {},
   "outputs": [],
   "source": [
    "print(1 in [1,2,3])\n",
    "print('a' in 'informatyka')\n",
    "print('a' not in 'informatyka')"
   ]
  },
  {
   "cell_type": "code",
   "execution_count": null,
   "metadata": {},
   "outputs": [],
   "source": [
    "a = 2\n",
    "b = 3\n",
    "c = 2\n",
    "print(a is b)\n",
    "print(a is c)\n",
    "print(b is not c)\n",
    "d = None  # None oznacza 'nic', pusty obiekt\n",
    "print(d is None)"
   ]
  },
  {
   "cell_type": "markdown",
   "metadata": {
    "deletable": false,
    "editable": false,
    "nbgrader": {
     "checksum": "f79d4e7ef5854955411e7d9c0a4d3505",
     "grade": false,
     "grade_id": "cell-7223e4b99b47adbd",
     "locked": true,
     "schema_version": 1,
     "solution": false
    }
   },
   "source": [
    "### Instrukcje sterujące\n",
    "#### Instrukcje: `if`, `if else`, `if elif else`.\n",
    "Składnia języka Python nie posiada sprecyzowanych początków i końców dla funkcji czy bloków kodu oraz żadnych nawiasów służących do zaznaczania, gdzie funkcja lub blok się zaczyna, a gdzie kończy. Jedynym separatorem jest dwukropek `:` i `wcięcia kodu`. Wstawiając wcięcie zaczynamy blok, a kończymy go zmniejszając wielkość wcięcia do poprzedniej wartości. Nie ma żadnych nawiasów, klamer czy słów kluczowych. Oznacza to, że białe znaki (spacje itp.) mają znaczenie i ich stosowanie musi być konsekwentne. "
   ]
  },
  {
   "cell_type": "code",
   "execution_count": null,
   "metadata": {},
   "outputs": [],
   "source": [
    "a=2\n",
    "b=3\n",
    "if a<b:  # jeżeli warunek True to wykonaj instrukcje w bloku (instrukcje z wcięciami (tab))\n",
    "    print(a+b)"
   ]
  },
  {
   "cell_type": "code",
   "execution_count": null,
   "metadata": {},
   "outputs": [],
   "source": [
    "a=4\n",
    "b=3\n",
    "if a<b:  # gdy warunek prawdziwy\n",
    "    print(a+b) \n",
    "else:    # gdy warunek fałszywy\n",
    "    print(a-b)"
   ]
  },
  {
   "cell_type": "code",
   "execution_count": null,
   "metadata": {},
   "outputs": [],
   "source": [
    "a=10\n",
    "b=8\n",
    "if a<b:  # gdy warunek prawdziwy\n",
    "    print(a+b) \n",
    "elif a<2*b: # kolejny warunek gdy poprzedni nie jest spełniony\n",
    "    print(a*b)\n",
    "else:    # gdy warunek prawdziwy\n",
    "    print(a-b)"
   ]
  },
  {
   "cell_type": "code",
   "execution_count": null,
   "metadata": {},
   "outputs": [],
   "source": [
    "# warunkiem może być dowolne wyrażenie zwracające True lub False\n",
    "a = 10\n",
    "if a < 20 and a >5:\n",
    "    print(a,a,a, end=' ')\n",
    "    \n",
    "# to samo możemy zapisać prościej\n",
    "if 5 < a < 20:\n",
    "    print(a,a,a, end=' ')"
   ]
  },
  {
   "cell_type": "markdown",
   "metadata": {
    "deletable": false,
    "editable": false,
    "nbgrader": {
     "checksum": "6d6d9262bac49d00b08954a286734bde",
     "grade": false,
     "grade_id": "cell-0b01f73629cdf6dd",
     "locked": true,
     "schema_version": 1,
     "solution": false
    }
   },
   "source": [
    "#### Pętla `while`."
   ]
  },
  {
   "cell_type": "code",
   "execution_count": null,
   "metadata": {},
   "outputs": [],
   "source": [
    "i=0\n",
    "while i<10:  #sprawdź warunek, jeżeli True wykonuj instrukcje w bloku i znowu sprawdź warunek\n",
    "    print(i, end=' ') \n",
    "    i=i+1  # można krócej i+=1, Uwaga: nie ma operatora i++"
   ]
  },
  {
   "cell_type": "markdown",
   "metadata": {
    "deletable": false,
    "editable": false,
    "nbgrader": {
     "checksum": "b677a616443086a0b71c31b029184037",
     "grade": false,
     "grade_id": "cell-a69ec514d60790d4",
     "locked": true,
     "schema_version": 1,
     "solution": false
    }
   },
   "source": [
    "#### Pętla `for`\n",
    "Pętla `for` w języku Python działa jak pętla `foreach` w niektórych innych językach i składa się z dwóch słów kluczowych `for` oraz `in`."
   ]
  },
  {
   "cell_type": "code",
   "execution_count": null,
   "metadata": {},
   "outputs": [],
   "source": [
    "for i in [1,2,6,7]:\n",
    "    print(i, end=' ')"
   ]
  },
  {
   "cell_type": "markdown",
   "metadata": {
    "deletable": false,
    "editable": false,
    "nbgrader": {
     "checksum": "31be6e9bf5d824b101002deec9ec878c",
     "grade": false,
     "grade_id": "cell-b8dc1daf08851bce",
     "locked": true,
     "schema_version": 1,
     "solution": false
    }
   },
   "source": [
    "Iterować można nie tylko po listach, ale po wszystkich obiektach \"iterowalnych\" czyli posiadających metodę `__iter__`, np. łańcuch znaków, słownik itp."
   ]
  },
  {
   "cell_type": "code",
   "execution_count": null,
   "metadata": {},
   "outputs": [],
   "source": [
    "for litera in 'informatyka':\n",
    "    print(litera, end=' ')"
   ]
  },
  {
   "cell_type": "code",
   "execution_count": null,
   "metadata": {},
   "outputs": [],
   "source": [
    "dic = {'imie':'Jack', 'nazwisko': 'Sparrow'}\n",
    "for key in dic:\n",
    "    print(key, end=' ')"
   ]
  },
  {
   "cell_type": "markdown",
   "metadata": {
    "deletable": false,
    "editable": false,
    "nbgrader": {
     "checksum": "ea955065f657ddf71e853d1c3a3aae63",
     "grade": false,
     "grade_id": "cell-0ffb968859c199db",
     "locked": true,
     "schema_version": 1,
     "solution": false
    }
   },
   "source": [
    "Przydatnym obiektem przy używaniu pętli jest obiekt `range`, który w języku Python 3 (inaczej niż w Python 2) zwraca generator. Więcej o generatorach https://docs.python.org/3/glossary.html#term-generator."
   ]
  },
  {
   "cell_type": "code",
   "execution_count": null,
   "metadata": {},
   "outputs": [],
   "source": [
    "range(100)  # generator przedziału liczb całkowitych od 0 do 99 (100 elementow)"
   ]
  },
  {
   "cell_type": "code",
   "execution_count": null,
   "metadata": {},
   "outputs": [],
   "source": [
    "range(5,80)  # generator przedziału liczb całkowitych od 5 do 79"
   ]
  },
  {
   "cell_type": "code",
   "execution_count": null,
   "metadata": {},
   "outputs": [],
   "source": [
    "range(5,80,2)  # generator przedziału liczb całkowitych od 5 do 79 z krokiem 2"
   ]
  },
  {
   "cell_type": "code",
   "execution_count": null,
   "metadata": {},
   "outputs": [],
   "source": [
    "for el in range(5,99,3):\n",
    "    print(el, end=' ')"
   ]
  },
  {
   "cell_type": "markdown",
   "metadata": {
    "deletable": false,
    "editable": false,
    "nbgrader": {
     "checksum": "c07d0e9c35b411b81524d34ed0517f45",
     "grade": false,
     "grade_id": "cell-6cbe963412e9e0c7",
     "locked": true,
     "schema_version": 1,
     "solution": false
    }
   },
   "source": [
    "Równie przydatne jest słowo kluczowe `enumerate`, które dodaje do obiektu iterowanego pozycje elementów."
   ]
  },
  {
   "cell_type": "code",
   "execution_count": null,
   "metadata": {},
   "outputs": [],
   "source": [
    "enumerate(['a','b','c'])  # z listy ['a','b','c'] otrzymujemu obiekt klasy enumerate postaci [(0,'a'), (1,'b'), (2,'c')]"
   ]
  },
  {
   "cell_type": "code",
   "execution_count": null,
   "metadata": {},
   "outputs": [],
   "source": [
    "abc = ['a','b','c']\n",
    "for index, element in enumerate(abc):\n",
    "    print(index, element)"
   ]
  },
  {
   "cell_type": "code",
   "execution_count": null,
   "metadata": {},
   "outputs": [],
   "source": [
    "# możliwe jest również coś takiego \n",
    "abc = [[1,1],[2,1],[3,1]]\n",
    "for x, y in abc:\n",
    "    print(x,y)"
   ]
  },
  {
   "cell_type": "markdown",
   "metadata": {
    "deletable": false,
    "editable": false,
    "nbgrader": {
     "checksum": "6f7338b22eacd487de1de586a480514d",
     "grade": false,
     "grade_id": "cell-40144400d7469352",
     "locked": true,
     "schema_version": 1,
     "solution": false
    }
   },
   "source": [
    "#### Słowa kluczowe `break`, `continue`"
   ]
  },
  {
   "cell_type": "code",
   "execution_count": null,
   "metadata": {},
   "outputs": [],
   "source": [
    "# przerywanie pętli while\n",
    "i=0\n",
    "while True:\n",
    "    print(i, end=' ')\n",
    "    i+=1\n",
    "    if i>10:\n",
    "        break"
   ]
  },
  {
   "cell_type": "code",
   "execution_count": null,
   "metadata": {},
   "outputs": [],
   "source": [
    "# pomijanie iteracji w pętli while\n",
    "i=0\n",
    "while True:\n",
    "    if i % 3 == 0:\n",
    "        i+=1\n",
    "        continue\n",
    "    print(i, end=' ')\n",
    "    i+=1\n",
    "    if i>10:\n",
    "        break"
   ]
  },
  {
   "cell_type": "code",
   "execution_count": null,
   "metadata": {},
   "outputs": [],
   "source": [
    "# przerwanie pętli for\n",
    "for i in range(100):\n",
    "    print(i*i, end=' ')\n",
    "    if i*i>4000:\n",
    "        break"
   ]
  },
  {
   "cell_type": "code",
   "execution_count": null,
   "metadata": {},
   "outputs": [],
   "source": [
    "# pomijanie iteracji w pętli for\n",
    "for i in range(100):\n",
    "    if 5 < i < 25:\n",
    "        continue\n",
    "    print(i*i, end=' ')\n",
    "    if i*i>4000:\n",
    "        break"
   ]
  },
  {
   "cell_type": "markdown",
   "metadata": {
    "deletable": false,
    "editable": false,
    "nbgrader": {
     "checksum": "6892de1e7c3319aa8fb7a97d0283f377",
     "grade": false,
     "grade_id": "cell-e193c4a7e8b3bcee",
     "locked": true,
     "schema_version": 1,
     "solution": false
    }
   },
   "source": [
    "### Funkcje\n",
    "Funkcje definiuje się słowem kluczowym `def`, a wywołuje poprzez jej nazwę `nazwa_funkcji()`."
   ]
  },
  {
   "cell_type": "code",
   "execution_count": null,
   "metadata": {},
   "outputs": [],
   "source": [
    "def przywitanie():\n",
    "    print('Hello')"
   ]
  },
  {
   "cell_type": "code",
   "execution_count": null,
   "metadata": {},
   "outputs": [],
   "source": [
    "przywitanie()"
   ]
  },
  {
   "cell_type": "markdown",
   "metadata": {
    "deletable": false,
    "editable": false,
    "nbgrader": {
     "checksum": "c43577385236d6a31b9700486e1b66cb",
     "grade": false,
     "grade_id": "cell-3a5e349c9e74de4e",
     "locked": true,
     "schema_version": 1,
     "solution": false
    }
   },
   "source": [
    "Funkcja może zwracać wartości, służy do tego słowo kluczowe `return`. Można zwracać dowolną liczbę wartości, dowolnego typu. Tak naprawdę funkcja zawsze coś zwraca, jezeli nie użyjemy w funkcji `return` to funkcja zwróci obiekt `None`."
   ]
  },
  {
   "cell_type": "code",
   "execution_count": null,
   "metadata": {},
   "outputs": [],
   "source": [
    "def funkcja():\n",
    "    return 2\n",
    "\n",
    "a = funkcja()\n",
    "print(a)"
   ]
  },
  {
   "cell_type": "code",
   "execution_count": null,
   "metadata": {},
   "outputs": [],
   "source": [
    "def funkcja2():\n",
    "    return 1,2,3,4\n",
    "\n",
    "a=funkcja2() # przypisanie zwracanych wartości do krotki\n",
    "print(a)\n",
    "\n",
    "x,y,z,t = funkcja2()\n",
    "print(x,y,z,t)"
   ]
  },
  {
   "cell_type": "markdown",
   "metadata": {
    "deletable": false,
    "editable": false,
    "nbgrader": {
     "checksum": "05587ddcb8a2462107b78cc8686b041e",
     "grade": false,
     "grade_id": "cell-15bc82883c9df7de",
     "locked": true,
     "schema_version": 1,
     "solution": false
    }
   },
   "source": [
    "Funkcje mogą przyjmować dowolną liczbę argumetów, argumentem może być dowolnego typu, również inne funkcje."
   ]
  },
  {
   "cell_type": "code",
   "execution_count": null,
   "metadata": {},
   "outputs": [],
   "source": [
    "# funkcja zwracające normę euklidesa wektora (lista)\n",
    "def norm(wektor):\n",
    "    suma = 0\n",
    "    for x in wektor:\n",
    "        suma+=x**2\n",
    "    norma = suma**(1/2.0)\n",
    "    return norma\n",
    "\n",
    "norm([1,2,3])"
   ]
  },
  {
   "cell_type": "code",
   "execution_count": null,
   "metadata": {},
   "outputs": [],
   "source": [
    "# fuckcja zwracająca p-tą normę, dla p=2 jest to norma euklidesa\n",
    "def pnorm(wektor, p):\n",
    "    suma = 0\n",
    "    for x in wektor:\n",
    "        suma+=x**p\n",
    "    norma = suma**(1.0/p)\n",
    "    return norma\n",
    "\n",
    "pnorm([1,2,3], 2)"
   ]
  },
  {
   "cell_type": "markdown",
   "metadata": {
    "deletable": false,
    "editable": false,
    "nbgrader": {
     "checksum": "b1025e15e3ac976e54c0255b9d3cd615",
     "grade": false,
     "grade_id": "cell-7a1bada8b2d10d80",
     "locked": true,
     "schema_version": 1,
     "solution": false
    }
   },
   "source": [
    "Argumenty funkcji zdefiniowane jak powyżej to argumety wymaganlne i przy wywoływaniu trzeba je podać i dokładnie tyle ile trzeba."
   ]
  },
  {
   "cell_type": "code",
   "execution_count": null,
   "metadata": {},
   "outputs": [],
   "source": [
    "# na mało argumentów\n",
    "pnorm([1,2,3]) "
   ]
  },
  {
   "cell_type": "code",
   "execution_count": null,
   "metadata": {},
   "outputs": [],
   "source": [
    "# za dużo argumentów\n",
    "pnorm([1,2,3],3,4)"
   ]
  },
  {
   "cell_type": "markdown",
   "metadata": {
    "deletable": false,
    "editable": false,
    "nbgrader": {
     "checksum": "e355e03ad161475813e14cee2e5e5fd7",
     "grade": false,
     "grade_id": "cell-7e460651e92df7eb",
     "locked": true,
     "schema_version": 1,
     "solution": false
    }
   },
   "source": [
    "Można jednak definiować tzw. argumenty domyślne, dla których w przypadku nie podania wartości przyjęte zostaną zdefiniowane wartości domyślne. Argumenty podawane są porzez ich nazwy więc można je podawać w dowolnej kolejności."
   ]
  },
  {
   "cell_type": "code",
   "execution_count": null,
   "metadata": {},
   "outputs": [],
   "source": [
    "# p-ta norma\n",
    "def pnorm(wektor, p=2, pp=True):\n",
    "    suma = 0\n",
    "    for x in wektor:\n",
    "        suma+=x**p\n",
    "    norma = suma**(1.0/p)\n",
    "    if pp:\n",
    "        res = 'Norma {0}-ta wektora {1} to {2}'.format(p, wektor, norma)\n",
    "        print(res)\n",
    "    return norma\n",
    "\n",
    "print(pnorm([1,2,3]))\n",
    "print(pnorm([1,2,3],3))\n",
    "print(pnorm([1,2,3],3,False))\n",
    "print(pnorm([1,2,3],pp=False))\n",
    "print(pnorm([1,2,3],p=3,pp=False))"
   ]
  },
  {
   "cell_type": "markdown",
   "metadata": {
    "deletable": false,
    "editable": false,
    "nbgrader": {
     "checksum": "0d8de4c5f8dea98f07eaa08b7ef185c2",
     "grade": false,
     "grade_id": "cell-4be4b9499154ef2c",
     "locked": true,
     "schema_version": 1,
     "solution": false
    }
   },
   "source": [
    "Ponieważ funkcje mogą przyjmować bardzo wiele argumentów, aby wyszystkich nie wypisywać, w definicji funkcji używa się często argumentów `*args` oraz `**kargs`. Pierszy znich odpowiada argumentom podawanym wprost (argumenty takie umieszczane są w krotce `args`), a drugi argumantom podawanym poprzez nazwy (argumenty takie umieszczane są w słowniku `kargs`). "
   ]
  },
  {
   "cell_type": "code",
   "execution_count": null,
   "metadata": {},
   "outputs": [],
   "source": [
    "def pnorm2(*args, **kargs):\n",
    "    wektor = args[0]\n",
    "    p = args[1]\n",
    "    pp = kargs['pp'] \n",
    "    suma = 0\n",
    "    for x in wektor:\n",
    "        suma+=x**p\n",
    "    norma = suma**(1.0/p)\n",
    "    if pp:\n",
    "        res = 'Norma {0}-ta wektora {1} to {2}'.format(p, wektor, norma)\n",
    "        print(res)\n",
    "    return norma"
   ]
  },
  {
   "cell_type": "code",
   "execution_count": null,
   "metadata": {},
   "outputs": [],
   "source": [
    "pnorm2([1,2,3],3,pp=True)"
   ]
  },
  {
   "cell_type": "markdown",
   "metadata": {
    "deletable": false,
    "editable": false,
    "nbgrader": {
     "checksum": "2c536716f7db59620594f66ae377f4e7",
     "grade": false,
     "grade_id": "cell-a088db2d2db13677",
     "locked": true,
     "schema_version": 1,
     "solution": false
    }
   },
   "source": [
    "Argumentami funkcji mogą być również inne funkcje, a także mogą odwoływać się do samej siebie (rekurencja)"
   ]
  },
  {
   "cell_type": "code",
   "execution_count": null,
   "metadata": {},
   "outputs": [],
   "source": [
    "def suma(a,b):\n",
    "    return a+b\n",
    "\n",
    "def roznica(a,b):\n",
    "    return a-b\n",
    "\n",
    "def dzialanie(x,y,f):\n",
    "    return f(x,y)"
   ]
  },
  {
   "cell_type": "code",
   "execution_count": null,
   "metadata": {},
   "outputs": [],
   "source": [
    "dzialanie(2, 3, suma)"
   ]
  },
  {
   "cell_type": "markdown",
   "metadata": {
    "deletable": false,
    "editable": false,
    "nbgrader": {
     "checksum": "fd77ae6635c99006322d76da9a8a0f63",
     "grade": false,
     "grade_id": "cell-42acf0239310fb56",
     "locked": true,
     "schema_version": 1,
     "solution": false
    }
   },
   "source": [
    "#### Funkcja `lambda`\n",
    "Słowo kluczowe `lambda` pozwala na zdefiniowanie jednolinijkowej funkcji."
   ]
  },
  {
   "cell_type": "code",
   "execution_count": null,
   "metadata": {},
   "outputs": [],
   "source": [
    "dzialanie(2, 6, lambda x, y: x+y-2*y)"
   ]
  },
  {
   "cell_type": "markdown",
   "metadata": {
    "deletable": false,
    "editable": false,
    "nbgrader": {
     "checksum": "294d64523ccb5d2d1e0927b7db0a9757",
     "grade": false,
     "grade_id": "cell-22fcc0f320216f27",
     "locked": true,
     "schema_version": 1,
     "solution": false
    }
   },
   "source": [
    "## Zadanie 3:\n",
    "- Napisz program (lub funkcję), który wczytuje od użytkownika współczynniki $a,b,c$ równania $ax^2+bx+c=0$ i wypisuje rozwiązania rzeczywiste tego równania lub informację o braku rozwiązań. Wartości współczynników możesz podawać wprost w kodzie np. `a=1` itp. lub wykorzytsać metodę `input()`, która pozwala na wprowadzenie wartości z klawiatury w trakcie działania programu.\n",
    "- Napisz drugą wersję tego programu, która pozwoli na otrzymywanie również rozwiązań zespolonych."
   ]
  },
  {
   "cell_type": "code",
   "execution_count": null,
   "metadata": {
    "deletable": false,
    "nbgrader": {
     "checksum": "539c22b1a1b4db5ee9631276f8fe3384",
     "grade": true,
     "grade_id": "pod-zad",
     "locked": false,
     "points": 5,
     "schema_version": 1,
     "solution": true
    }
   },
   "outputs": [],
   "source": [
    "a = 1 #input('Podaj współczynnik a: ') \n",
    "b = 1 #input('Podaj współczynnik b: ') \n",
    "c = 1 #input('Podaj współczynnik c: ') \n",
    "# YOUR CODE HERE\n",
    "raise NotImplementedError()"
   ]
  },
  {
   "cell_type": "markdown",
   "metadata": {
    "deletable": false,
    "editable": false,
    "nbgrader": {
     "checksum": "0a89ed83710abdf51a0afadab5e0b6ad",
     "grade": false,
     "grade_id": "cell-de80042424d19ab5",
     "locked": true,
     "schema_version": 1,
     "solution": false
    }
   },
   "source": [
    "### Odwzorowania listowe (List comprehension), czyli szybkie tworzenie list.\n",
    "Klasyczne tworzenie listy za pomocą pętli `for`:"
   ]
  },
  {
   "cell_type": "code",
   "execution_count": 2,
   "metadata": {},
   "outputs": [
    {
     "name": "stdout",
     "output_type": "stream",
     "text": [
      "[0, 1, 4, 9, 16, 25, 36, 49, 64, 81]\n"
     ]
    }
   ],
   "source": [
    "tab = []\n",
    "for i in range(10):\n",
    "    tab.append(i**2)\n",
    "print(tab)"
   ]
  },
  {
   "cell_type": "markdown",
   "metadata": {
    "deletable": false,
    "editable": false,
    "nbgrader": {
     "checksum": "21a7d3eca042021997e14d02f97e9453",
     "grade": false,
     "grade_id": "cell-4597f672bc86bc3b",
     "locked": true,
     "schema_version": 1,
     "solution": false
    }
   },
   "source": [
    "To samo możemy uzyskać w jednej linijce:"
   ]
  },
  {
   "cell_type": "code",
   "execution_count": 3,
   "metadata": {},
   "outputs": [
    {
     "name": "stdout",
     "output_type": "stream",
     "text": [
      "[0, 1, 4, 9, 16, 25, 36, 49, 64, 81]\n"
     ]
    }
   ],
   "source": [
    "tab2 = [i**2 for i in range(10)]\n",
    "print(tab2)"
   ]
  },
  {
   "cell_type": "markdown",
   "metadata": {
    "deletable": false,
    "editable": false,
    "nbgrader": {
     "checksum": "c595bf55f0c8bcd66cfd11345df6e664",
     "grade": false,
     "grade_id": "cell-c98881b9f401f817",
     "locked": true,
     "schema_version": 1,
     "solution": false
    }
   },
   "source": [
    "Obiektem po którym iterujemu może być dowolny obiekt iterowalny np. lista, zbiór, słownik itp. Możemy również generowac w ten sposób listy wielowymiarowe:"
   ]
  },
  {
   "cell_type": "code",
   "execution_count": 8,
   "metadata": {},
   "outputs": [
    {
     "name": "stdout",
     "output_type": "stream",
     "text": [
      "[[2], [3], [4], [5], [6], [3], [4], [5], [6], [7], [4], [5], [6], [7], [8], [5], [6], [7], [8], [9], [6], [7], [8], [9], [10]]\n"
     ]
    }
   ],
   "source": [
    "tab2d = [[i,j] for i in [1,2,3,4,5] for j in [1,2,3,4,5]]\n",
    "print(tab2d)"
   ]
  },
  {
   "cell_type": "markdown",
   "metadata": {
    "deletable": false,
    "editable": false,
    "nbgrader": {
     "checksum": "83692d414504b217456304224050a533",
     "grade": false,
     "grade_id": "cell-a98f9037c92ebcbc",
     "locked": true,
     "schema_version": 1,
     "solution": false
    }
   },
   "source": [
    "Powyższa konstrukcja może zawierać również instrukcje warunkowe:"
   ]
  },
  {
   "cell_type": "code",
   "execution_count": 10,
   "metadata": {},
   "outputs": [
    {
     "name": "stdout",
     "output_type": "stream",
     "text": [
      "[0]\n"
     ]
    }
   ],
   "source": [
    "#tylko liczby podzielne przez 13 z listy tab2\n",
    "tab3 = [x for x in tab2 if x % 13 == 0]\n",
    "print(tab3)"
   ]
  },
  {
   "cell_type": "markdown",
   "metadata": {
    "deletable": false,
    "editable": false,
    "nbgrader": {
     "checksum": "b4462b9e8c0fbfb32194b24b42b5457d",
     "grade": false,
     "grade_id": "cell-ee7e01641a63980f",
     "locked": true,
     "schema_version": 1,
     "solution": false
    }
   },
   "source": [
    "Uniwersalna forma dopuszczająca konstrukcję ` if else`:"
   ]
  },
  {
   "cell_type": "code",
   "execution_count": 9,
   "metadata": {
    "scrolled": false
   },
   "outputs": [
    {
     "name": "stdout",
     "output_type": "stream",
     "text": [
      "[0, 0, 0, 0, 0, 0, 0, 0, 0, 0]\n"
     ]
    }
   ],
   "source": [
    "#liczby podzielne przez 13 zostaw bez zmian, a pozostałe zastąp zerem\n",
    "tab4 = [x if x % 13 == 0 else 0 for x in tab2]\n",
    "print(tab4)"
   ]
  },
  {
   "cell_type": "markdown",
   "metadata": {
    "deletable": false,
    "editable": false,
    "nbgrader": {
     "checksum": "34202f59bc67b196439e1d56f2f9dc40",
     "grade": false,
     "grade_id": "cell-b6bc9c12bec8f157",
     "locked": true,
     "schema_version": 1,
     "solution": false
    }
   },
   "source": [
    "### Praca z plikami tekstowymi\n",
    "Do pracy z plikami/folderami przydatny moze okazać sie moduł `os` (https://docs.python.org/3/library/os.html).\n",
    "Np. aby sprawdzić scieżkę do folderu, w którym aktualnie pracujemy należy wykonać polecenie:"
   ]
  },
  {
   "cell_type": "code",
   "execution_count": 11,
   "metadata": {},
   "outputs": [
    {
     "data": {
      "text/plain": [
       "'/home/tkacza/AAA/wsi_wstep_do_sztucznej_inteligencji/wsi_python/Python_Lab_1'"
      ]
     },
     "execution_count": 11,
     "metadata": {},
     "output_type": "execute_result"
    }
   ],
   "source": [
    "import os\n",
    "os.getcwd()"
   ]
  },
  {
   "cell_type": "markdown",
   "metadata": {
    "deletable": false,
    "editable": false,
    "nbgrader": {
     "checksum": "eaa4da1f07fae006266ed28956bbba27",
     "grade": false,
     "grade_id": "cell-b09c4f157921013d",
     "locked": true,
     "schema_version": 1,
     "solution": false
    }
   },
   "source": [
    "Otwieranie pliku tekstowego:\n",
    "```python\n",
    "open('sciezka\\nazwa_pliku','tryb')\n",
    "```\n",
    "\n",
    "Tryby otwierania pliku:\n",
    "\n",
    "`w` - do zapisu (jeżli plik istnieje to go nadpiszemy)\n",
    "\n",
    "`r` - do odczytu\n",
    "\n",
    "`a` - tryb dopisywania\n",
    "\n",
    "Do każdego trybu można dodać litere `b` co oznacza pracę w trybie binarnym.\n",
    "\n",
    "Zapis do pliku:"
   ]
  },
  {
   "cell_type": "code",
   "execution_count": 12,
   "metadata": {},
   "outputs": [],
   "source": [
    "# otwarcie pliku do zapisu\n",
    "f = open('plik.txt','w')\n",
    "# zapisujemy w pliku 5 lini tekstu\n",
    "f.write('linia 1\\n')\n",
    "f.write('linia 2\\n')\n",
    "f.write('linia 3\\n')\n",
    "f.write('linia 4\\n')\n",
    "f.write('linia 5\\n')\n",
    "# zamykamy plik\n",
    "f.close()"
   ]
  },
  {
   "cell_type": "markdown",
   "metadata": {
    "deletable": false,
    "editable": false,
    "nbgrader": {
     "checksum": "c9811565d2151b18304653303979223a",
     "grade": false,
     "grade_id": "cell-1bd4c9bfcb514036",
     "locked": true,
     "schema_version": 1,
     "solution": false
    }
   },
   "source": [
    "Czytanie z pliku:"
   ]
  },
  {
   "cell_type": "code",
   "execution_count": 13,
   "metadata": {},
   "outputs": [
    {
     "name": "stdout",
     "output_type": "stream",
     "text": [
      "linia 1\n",
      "linia 2\n",
      "linia 3\n",
      "linia 4\n",
      "linia 5\n",
      "\n"
     ]
    }
   ],
   "source": [
    "# otwarcie pliku do odczytu\n",
    "f = open('plik.txt','r')\n",
    "# czytanie całego pliku\n",
    "tekst = f.read()\n",
    "# zamykamy plik\n",
    "f.close()\n",
    "print(tekst)"
   ]
  },
  {
   "cell_type": "code",
   "execution_count": 14,
   "metadata": {},
   "outputs": [
    {
     "name": "stdout",
     "output_type": "stream",
     "text": [
      "linia 1\n",
      "\n",
      "linia 2\n",
      "\n",
      "linia 3\n",
      "\n",
      "linia 4\n",
      "\n",
      "linia 5\n",
      "\n",
      "\n",
      "\n"
     ]
    }
   ],
   "source": [
    "# otwarcie pliku do odczytu\n",
    "f = open('plik.txt','r')\n",
    "# czytanie linia po lini\n",
    "print(f.readline())\n",
    "print(f.readline())\n",
    "print(f.readline())\n",
    "print(f.readline())\n",
    "print(f.readline())\n",
    "print(f.readline())  # pusty string\n",
    "print(f.readline())  # pusty string\n",
    "# zamykamy plik\n",
    "f.close()"
   ]
  },
  {
   "cell_type": "code",
   "execution_count": 15,
   "metadata": {},
   "outputs": [
    {
     "name": "stdout",
     "output_type": "stream",
     "text": [
      "linia 1\n",
      "\n",
      "linia 2\n",
      "\n",
      "linia 3\n",
      "\n",
      "linia 4\n",
      "\n",
      "linia 5\n",
      "\n"
     ]
    }
   ],
   "source": [
    "# otwarcie pliku do odczytu\n",
    "f = open('plik.txt','r')\n",
    "# czytanie linia po lini pętla for\n",
    "for line in f:\n",
    "    print(line)\n",
    "# zamykamy plik\n",
    "f.close()"
   ]
  },
  {
   "cell_type": "code",
   "execution_count": 16,
   "metadata": {},
   "outputs": [
    {
     "name": "stdout",
     "output_type": "stream",
     "text": [
      "linia 1\n",
      "linia 2\n",
      "linia 3\n",
      "linia 4\n",
      "linia 5\n",
      "linia 6\n",
      "linia 7\n",
      "\n"
     ]
    }
   ],
   "source": [
    "# otwarcie pliku do edycji (dopisywanie)\n",
    "\n",
    "f = open('plik.txt','a')\n",
    "f.write('linia 6\\n')\n",
    "f.write('linia 7\\n')\n",
    "f.close()\n",
    "\n",
    "f = open('plik.txt','r')\n",
    "tekst = f.read()\n",
    "f.close()\n",
    "print(tekst)"
   ]
  },
  {
   "cell_type": "markdown",
   "metadata": {
    "deletable": false,
    "editable": false,
    "nbgrader": {
     "checksum": "81afb954148fe306fddee83bd123e78a",
     "grade": false,
     "grade_id": "cell-144f85e83a99aab3",
     "locked": true,
     "schema_version": 1,
     "solution": false
    }
   },
   "source": [
    "Aby nie musieć zawsze pamiętać o zamykaniu pliku można użyć słowa kluczowego `with`, wówczas po wyjściu z bloku `with` plik automatycznie zostanie zamknięty."
   ]
  },
  {
   "cell_type": "code",
   "execution_count": null,
   "metadata": {},
   "outputs": [],
   "source": [
    "with open('plik.txt','r') as file:\n",
    "    tekst = file.read()\n",
    "print(tekst)\n",
    "file.read()  #error, plik już jest zamknięty"
   ]
  },
  {
   "cell_type": "markdown",
   "metadata": {
    "deletable": false,
    "editable": false,
    "nbgrader": {
     "checksum": "26f5f95a2949a5b875dc3307efd348f2",
     "grade": false,
     "grade_id": "cell-be0ce64b95718ea9",
     "locked": true,
     "schema_version": 1,
     "solution": false
    }
   },
   "source": [
    "### Praca z plikami csv. Moduł `csv` (https://docs.python.org/3/library/csv.html)."
   ]
  },
  {
   "cell_type": "code",
   "execution_count": 17,
   "metadata": {},
   "outputs": [],
   "source": [
    "# import modulu csv\n",
    "import csv "
   ]
  },
  {
   "cell_type": "code",
   "execution_count": 18,
   "metadata": {},
   "outputs": [],
   "source": [
    "# zapis do pliku csv\n",
    "\n",
    "with open('plik.csv','w', newline='') as f:\n",
    "    csvwriter = csv.writer(f, delimiter=';')  #csv rozdzielany średnikiem, domyslnie przecinek\n",
    "    csvwriter.writerow(['row_1_col_1', 'row_1_col_2','row_1_col_3'])\n",
    "    csvwriter.writerow(['row_2_col_1', 'row_2_col_2','row_2_col_3'])\n",
    "    csvwriter.writerow(['row_3_col_1', 'row_3_col_2','row_3_col_3'])\n",
    "# aby zobaczyć efekt należy podgladnąć plik.csv w folderze roboczym"
   ]
  },
  {
   "cell_type": "code",
   "execution_count": 19,
   "metadata": {},
   "outputs": [
    {
     "name": "stdout",
     "output_type": "stream",
     "text": [
      "row_1_col_1\n",
      "row_1_col_2\n",
      "row_1_col_3\n",
      "row_2_col_1\n",
      "row_2_col_2\n",
      "row_2_col_3\n",
      "row_3_col_1\n",
      "row_3_col_2\n",
      "row_3_col_3\n"
     ]
    }
   ],
   "source": [
    "# odczyt z pliku csv\n",
    "with open('plik.csv','r', newline='') as f:\n",
    "    csvreader = csv.reader(f, delimiter=';')\n",
    "    for row in csvreader:\n",
    "        for col in row:\n",
    "            print(col)"
   ]
  },
  {
   "cell_type": "markdown",
   "metadata": {
    "deletable": false,
    "editable": false,
    "nbgrader": {
     "checksum": "feb539043586a23a7627789d42752727",
     "grade": false,
     "grade_id": "cell-fafa4ed17e71b767",
     "locked": true,
     "schema_version": 1,
     "solution": false
    }
   },
   "source": [
    "### Klasy czyli obiektowość w Python (https://docs.python.org/3/tutorial/classes.html).\n",
    "Klasy w Python definiuje się tak samo jak funkcję z tą różnicą, że używamy słowa kluczowego `class`.\n",
    "```python\n",
    "class NazwaKlasy(klasy, po_ktorych, dziedziczymy):\n",
    "```\n",
    "\n",
    "\n",
    "Metody zaczynające i kończące się `__` to tzw. metody magiczne (specialne) (https://docs.python.org/3/reference/datamodel.html#special-method-names)\n",
    "\n",
    "W poniższym przykładzie klasy Wektor została wykorzystana metoda `__init__` oraz `__add__` do nadpisania operatora dodawania `+`."
   ]
  },
  {
   "cell_type": "code",
   "execution_count": null,
   "metadata": {},
   "outputs": [],
   "source": [
    "#Każda nowa klasa dzidziczy po klasie 'object'. \n",
    "class Wektor(object):\n",
    "    # metoda specjalna, inicjalizacja wykonywana przy tworzeniu obiektu (coś jak konstruktor), nie musi jej być.\n",
    "    def __init__(self, lista=[]):\n",
    "        self.values = lista     #pola naszej klasy\n",
    "        self.dim = len(lista)   #słowo kluczowe `self` odnosi się do naszego obiektu (coś jak `this` w C++)\n",
    "\n",
    "    # metody klasy\n",
    "    def dl(self):  #dlugosc wektora\n",
    "        s=0\n",
    "        for x in self.values:\n",
    "            s+=x**2\n",
    "        return s**(1/2.0)\n",
    "\n",
    "    # inne metody specjalne np. operatory\n",
    "    # dodawanie wektorów\n",
    "    def __add__(self, w):\n",
    "        assert (self.dim == w.dim), 'Wymiary muszą się zgadzać'\n",
    "        return Wektor([x+y for (x,y) in zip(self.values, w.values)])"
   ]
  },
  {
   "cell_type": "code",
   "execution_count": null,
   "metadata": {},
   "outputs": [],
   "source": [
    "# tworzenie obiektów klasy Wektor\n",
    "w1 = Wektor([1,2,3])\n",
    "w2 = Wektor([4,5,6])"
   ]
  },
  {
   "cell_type": "code",
   "execution_count": null,
   "metadata": {},
   "outputs": [],
   "source": [
    "print(w1.values)\n",
    "print(w2.values)"
   ]
  },
  {
   "cell_type": "code",
   "execution_count": null,
   "metadata": {},
   "outputs": [],
   "source": [
    "print(w1.dim)\n",
    "print(w2.dim)"
   ]
  },
  {
   "cell_type": "code",
   "execution_count": null,
   "metadata": {},
   "outputs": [],
   "source": [
    "w3 = w1 + w2"
   ]
  },
  {
   "cell_type": "code",
   "execution_count": null,
   "metadata": {},
   "outputs": [],
   "source": [
    "w3.values"
   ]
  },
  {
   "cell_type": "code",
   "execution_count": null,
   "metadata": {},
   "outputs": [],
   "source": [
    "w3.dl()"
   ]
  },
  {
   "cell_type": "code",
   "execution_count": null,
   "metadata": {},
   "outputs": [],
   "source": [
    "isinstance(w3, Wektor)"
   ]
  },
  {
   "cell_type": "code",
   "execution_count": null,
   "metadata": {},
   "outputs": [],
   "source": [
    "w4 = Wektor([1,2,3,4])\n",
    "w5 = w3 + w4"
   ]
  },
  {
   "cell_type": "markdown",
   "metadata": {
    "deletable": false,
    "editable": false,
    "nbgrader": {
     "checksum": "7cff7d0e76b29b1556c46d6877f83efa",
     "grade": false,
     "grade_id": "cell-910c24eef138c79e",
     "locked": true,
     "schema_version": 1,
     "solution": false
    }
   },
   "source": [
    "## Zadanie 4:\n",
    "Utwórz klasę nadrzędną `Figura` z odpowiednimi metodami pozwalającymi na obliczenie i wyświetlenie pola powierzchni oraz obwodu figury. Klasa `Figura` powinna zawierać jedynie puste definicje tych metod, można wykorzystać słowo kluczowe `pass`.\n",
    "\n",
    "Utwórz klasy `Trojkat`, `Prostokat`, `Kwadrat` dziedziczące po klasie `Figura`. Inicjalizacja obiektów danej klasy powinna odbywać się poprzez podanie długości boków. Klasy te powinny posiadać odpowiednie pola oraz nadpisywać metody z klasy `Figura`. Finkcja inicjalizująca powinna sprawdzać czy z podanych boków można zbudować daną figurę. To rzucania wyjątków można użyć słowa kluczowego `raise` lub jak w przykładzie wcześniej `assert`."
   ]
  },
  {
   "cell_type": "code",
   "execution_count": null,
   "metadata": {
    "deletable": false,
    "nbgrader": {
     "checksum": "fa81450f2193beaeb6bfbd0be9d77a29",
     "grade": true,
     "grade_id": "cell-798b0295810c4595",
     "locked": false,
     "points": 5,
     "schema_version": 1,
     "solution": true
    }
   },
   "outputs": [],
   "source": [
    "# YOUR CODE HERE\n",
    "raise NotImplementedError()"
   ]
  },
  {
   "cell_type": "markdown",
   "metadata": {
    "deletable": false,
    "editable": false,
    "nbgrader": {
     "checksum": "22a892ad8206e6bb4fc40a8269fd2edc",
     "grade": false,
     "grade_id": "cell-299e037cb4bc73bb",
     "locked": true,
     "schema_version": 1,
     "solution": false
    }
   },
   "source": [
    "<div style=\"text-align: right\">&copy; Zakład Inteligencji Obliczeniowej, Instytut Informatyki, Politechnika Krakowska </div>"
   ]
  }
 ],
 "metadata": {
  "kernelspec": {
   "display_name": "Python 3",
   "language": "python",
   "name": "python3"
  },
  "language_info": {
   "codemirror_mode": {
    "name": "ipython",
    "version": 3
   },
   "file_extension": ".py",
   "mimetype": "text/x-python",
   "name": "python",
   "nbconvert_exporter": "python",
   "pygments_lexer": "ipython3",
   "version": "3.6.7"
  }
 },
 "nbformat": 4,
 "nbformat_minor": 2
}
